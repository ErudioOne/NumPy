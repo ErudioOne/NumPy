{
 "cells": [
  {
   "cell_type": "markdown",
   "metadata": {
    "editable": true,
    "slideshow": {
     "slide_type": "slide"
    },
    "tags": []
   },
   "source": [
    "![Erudio logo](img/erudio-logo-small.png)\n",
    "---\n",
    "![NumPy logo](img/numpy-logo-small.png)"
   ]
  },
  {
   "cell_type": "markdown",
   "metadata": {
    "slideshow": {
     "slide_type": "slide"
    }
   },
   "source": [
    "# What is NumPy?\n",
    "\n",
    "NumPy is the basic foundation for (almost) all fast numeric computation within the Python ecosystem.  It provides multi-dimensional arrays, vectorized operations on elements, and static typing of \"unboxed\" numbers."
   ]
  },
  {
   "cell_type": "markdown",
   "metadata": {
    "slideshow": {
     "slide_type": "subslide"
    }
   },
   "source": [
    "For Python programmers, NumPy requires reframing our thinking about problems.  Unlike with Python lists, sets, dictionaries, and other standard data structures, NumPy arrays contain a fixed number of elements, each of the same datatype."
   ]
  },
  {
   "cell_type": "markdown",
   "metadata": {
    "slideshow": {
     "slide_type": "fragment"
    }
   },
   "source": [
    "Moreover, in NumPy we rarely loop over data elements.  Rather, we *vectorize* operations by performing them simultaneously on many or all the data in an array."
   ]
  },
  {
   "cell_type": "markdown",
   "metadata": {
    "slideshow": {
     "slide_type": "subslide"
    }
   },
   "source": [
    "## Uses of NumPy"
   ]
  },
  {
   "cell_type": "markdown",
   "metadata": {
    "editable": true,
    "slideshow": {
     "slide_type": "fragment"
    },
    "tags": []
   },
   "source": [
    "- Image and signal processing\n",
    "- Linear algebra\n",
    "- Data transformation and query\n",
    "- Time series analysis\n",
    "- Statistical analysis"
   ]
  },
  {
   "cell_type": "markdown",
   "metadata": {
    "slideshow": {
     "slide_type": "subslide"
    }
   },
   "source": [
    "## NumPy Ecosystem"
   ]
  },
  {
   "cell_type": "markdown",
   "metadata": {
    "slideshow": {
     "slide_type": "fragment"
    }
   },
   "source": [
    "We can usefully think of several *layers* for Python numeric computing. At the base is NumPy, built on top of that are general purpose libraries that utilize NumPy, such as Pandas, Matplotlib, and SciPy.  Above that are many domain or purpose-specific libraries and tools."
   ]
  },
  {
   "cell_type": "markdown",
   "metadata": {
    "slideshow": {
     "slide_type": "fragment"
    }
   },
   "source": [
    "![NumPy ecosystem](img/numpy-ecosystem.png)"
   ]
  },
  {
   "cell_type": "markdown",
   "metadata": {
    "slideshow": {
     "slide_type": "slide"
    }
   },
   "source": [
    "# Array Creation"
   ]
  },
  {
   "cell_type": "markdown",
   "metadata": {
    "slideshow": {
     "slide_type": "fragment"
    }
   },
   "source": [
    "Arrays have two essential elements: a shape and an element type.  The element type—or `dtype`—is fixed for the life of an array.  As well, the *size* of an array is fixed for its life, but its *shape* is not.  These design elements are much of what allows NumPy operations to work very quickly and on contiguous memory allocations."
   ]
  },
  {
   "cell_type": "markdown",
   "metadata": {
    "slideshow": {
     "slide_type": "fragment"
    }
   },
   "source": [
    "Technically, the number of *dimensions* that a NumPy array might have is 32 (as of version 1.26).  In practice, you will probably never use more than 5 or 6 dimensions; but you are very likely to create arrays with millions of *elements* (their size)."
   ]
  },
  {
   "cell_type": "markdown",
   "metadata": {
    "slideshow": {
     "slide_type": "subslide"
    }
   },
   "source": [
    "The first two dimensions are often called *rows* and *columns*. The third dimension is sometimes called *panels* or *planes*.  Higher dimensions are usually just named by number.\n",
    "\n",
    "![2D Numpy array](img/numpy-zeros-2D.png)"
   ]
  },
  {
   "cell_type": "markdown",
   "metadata": {
    "slideshow": {
     "slide_type": "subslide"
    }
   },
   "source": [
    "## Array Creation Examples"
   ]
  },
  {
   "cell_type": "markdown",
   "metadata": {
    "slideshow": {
     "slide_type": "fragment"
    }
   },
   "source": [
    "### Create a 2-D array of all zeros"
   ]
  },
  {
   "cell_type": "code",
   "execution_count": null,
   "metadata": {
    "slideshow": {
     "slide_type": "fragment"
    }
   },
   "outputs": [],
   "source": [
    "import numpy as np"
   ]
  },
  {
   "cell_type": "code",
   "execution_count": null,
   "metadata": {
    "slideshow": {
     "slide_type": "fragment"
    }
   },
   "outputs": [],
   "source": [
    "arr = np.zeros(shape=(5,6))\n",
    "print(arr)"
   ]
  },
  {
   "cell_type": "code",
   "execution_count": null,
   "metadata": {
    "slideshow": {
     "slide_type": "fragment"
    }
   },
   "outputs": [],
   "source": [
    "print(arr.shape)\n",
    "print(arr.size)"
   ]
  },
  {
   "cell_type": "markdown",
   "metadata": {
    "slideshow": {
     "slide_type": "subslide"
    }
   },
   "source": [
    "### Create an array based on a Python list-of-lists-of-lists"
   ]
  },
  {
   "cell_type": "code",
   "execution_count": null,
   "metadata": {
    "slideshow": {
     "slide_type": "fragment"
    }
   },
   "outputs": [],
   "source": [
    "arr = np.array([[[1, 2, 3, 4],\n",
    "                 [5, 6, 7, 8],\n",
    "                 [9, 8, 7, 6]],\n",
    "                [[-1, -2, -3, -4],\n",
    "                 [-5, -6, -7, -8],\n",
    "                 [-0, -3, -6, -9]]])\n",
    "print(arr)"
   ]
  },
  {
   "cell_type": "code",
   "execution_count": null,
   "metadata": {
    "slideshow": {
     "slide_type": "fragment"
    }
   },
   "outputs": [],
   "source": [
    "print(arr.shape)\n",
    "print(arr.size)"
   ]
  },
  {
   "cell_type": "markdown",
   "metadata": {
    "slideshow": {
     "slide_type": "subslide"
    }
   },
   "source": [
    "### Create an array based on a Python iterable"
   ]
  },
  {
   "cell_type": "code",
   "execution_count": null,
   "metadata": {
    "slideshow": {
     "slide_type": "fragment"
    }
   },
   "outputs": [],
   "source": [
    "arr = np.array(range(17, 100, 2))\n",
    "print(arr)"
   ]
  },
  {
   "cell_type": "code",
   "execution_count": null,
   "metadata": {
    "slideshow": {
     "slide_type": "fragment"
    }
   },
   "outputs": [],
   "source": [
    "print(arr.shape)\n",
    "print(arr.size)"
   ]
  },
  {
   "cell_type": "markdown",
   "metadata": {
    "slideshow": {
     "slide_type": "subslide"
    }
   },
   "source": [
    "## Short exercise (array creation)\n",
    "\n",
    "Try to create an 3-D array containing all the odd numbers from 17 to 99."
   ]
  },
  {
   "cell_type": "code",
   "execution_count": null,
   "metadata": {
    "editable": true,
    "slideshow": {
     "slide_type": "fragment"
    },
    "tags": []
   },
   "outputs": [],
   "source": [
    "# Complete this code\n",
    "arr_odd_3d = ..."
   ]
  },
  {
   "cell_type": "markdown",
   "metadata": {
    "slideshow": {
     "slide_type": "slide"
    }
   },
   "source": [
    "# NumPy Datatypes"
   ]
  },
  {
   "cell_type": "markdown",
   "metadata": {
    "slideshow": {
     "slide_type": "fragment"
    }
   },
   "source": [
    "Every element of an array has the same datatype.  If you were looking carefully at the above examples, you may have noticed that some of the arrays contained some kind of integer, and others contained some kind of floating point value."
   ]
  },
  {
   "cell_type": "markdown",
   "metadata": {
    "slideshow": {
     "slide_type": "fragment"
    }
   },
   "source": [
    "NumPy makes some guesses about the datatype (called `dtype`) you want, depending on how an array is created, but you also have fine-grained control."
   ]
  },
  {
   "cell_type": "markdown",
   "metadata": {
    "slideshow": {
     "slide_type": "subslide"
    }
   },
   "source": [
    "## Array `dtype` Examples"
   ]
  },
  {
   "cell_type": "code",
   "execution_count": null,
   "metadata": {
    "slideshow": {
     "slide_type": "fragment"
    }
   },
   "outputs": [],
   "source": [
    "arr = np.ones(20, dtype=bool)\n",
    "print(arr)"
   ]
  },
  {
   "cell_type": "code",
   "execution_count": null,
   "metadata": {
    "slideshow": {
     "slide_type": "fragment"
    }
   },
   "outputs": [],
   "source": [
    "arr = np.arange(20, dtype=float)\n",
    "print(arr)"
   ]
  },
  {
   "cell_type": "code",
   "execution_count": null,
   "metadata": {
    "slideshow": {
     "slide_type": "fragment"
    }
   },
   "outputs": [],
   "source": [
    "arr = np.array(range(20, 0, -1), dtype=complex)\n",
    "print(arr)"
   ]
  },
  {
   "cell_type": "markdown",
   "metadata": {
    "slideshow": {
     "slide_type": "subslide"
    }
   },
   "source": [
    "## Array `dtype` options"
   ]
  },
  {
   "cell_type": "markdown",
   "metadata": {
    "slideshow": {
     "slide_type": "fragment"
    }
   },
   "source": [
    "The Python types can be used for the default bit-length of some `dtype`s, specific to the machine you are working on.  But NumPy provides many other specific types.\n",
    "\n",
    "```{list-table} Python Type and Numpy dtype equivalence\n",
    ":header-rows: 1\n",
    ":widths: 80 80\n",
    "\n",
    "* - Python Type\n",
    "  - NumPy dtype\n",
    "* - `bool`\n",
    "  - `np.bool_` \n",
    "* - `int`\n",
    "  - `np.int_`\n",
    "* - `float`\n",
    "  - `np.float_`\n",
    "* - `complex`\n",
    "  - `np.complex_`\n",
    "```\n",
    "\n",
    "* Integers can be 8 - 64 bits.\n",
    "* floats can be 16, 32, or 64 bits (128 bits on some platforms)\n",
    "\n",
    "[Full list of supported types](https://docs.scipy.org/doc/numpy/user/basics.types.html)"
   ]
  },
  {
   "cell_type": "markdown",
   "metadata": {
    "slideshow": {
     "slide_type": "subslide"
    }
   },
   "source": [
    "Looking only at the types, not their bit-lengths, we have:\n",
    "\n",
    "![NumPy dtype hierarchy](img/dtype-hierarchy.png)"
   ]
  },
  {
   "cell_type": "markdown",
   "metadata": {
    "slideshow": {
     "slide_type": "subslide"
    }
   },
   "source": [
    "## More Array `dtype` Examples"
   ]
  },
  {
   "cell_type": "code",
   "execution_count": null,
   "metadata": {
    "slideshow": {
     "slide_type": "fragment"
    }
   },
   "outputs": [],
   "source": [
    "arr1 = np.ones(10, dtype=np.float128)\n",
    "arr1"
   ]
  },
  {
   "cell_type": "code",
   "execution_count": null,
   "metadata": {
    "slideshow": {
     "slide_type": "fragment"
    }
   },
   "outputs": [],
   "source": [
    "arr2 = np.arange(0, 500, 50, dtype=np.uint8)\n",
    "arr2"
   ]
  },
  {
   "cell_type": "code",
   "execution_count": null,
   "metadata": {
    "slideshow": {
     "slide_type": "fragment"
    }
   },
   "outputs": [],
   "source": [
    "print(\"Array dtypes: %s; %s\" % (arr1.dtype, arr2.dtype))"
   ]
  },
  {
   "cell_type": "markdown",
   "metadata": {
    "slideshow": {
     "slide_type": "subslide"
    }
   },
   "source": [
    "## Short exercise (array creation with typing)\n",
    "\n",
    "Try to create an 3-D array containing all the odd numbers from 17 to 99. But this time try to create the numbers as complex numbers (with zero imaginary component), using extended precision components (or double precision if your platform does not support extended 128-bit precision)"
   ]
  },
  {
   "cell_type": "code",
   "execution_count": null,
   "metadata": {
    "slideshow": {
     "slide_type": "fragment"
    }
   },
   "outputs": [],
   "source": [
    "# Complete this code\n",
    "arr_odd_ext_complex_3d = ..."
   ]
  },
  {
   "cell_type": "markdown",
   "metadata": {
    "slideshow": {
     "slide_type": "slide"
    }
   },
   "source": [
    "# Reshaping arrays"
   ]
  },
  {
   "cell_type": "markdown",
   "metadata": {
    "slideshow": {
     "slide_type": "fragment"
    }
   },
   "source": [
    "A very powerful feature of NumPy arrays is that they can change shape without changing the memory block where they live.  Treating an array as a different shape—including perhaps a different number of dimensions—does not require any copying of data."
   ]
  },
  {
   "cell_type": "code",
   "execution_count": null,
   "metadata": {
    "slideshow": {
     "slide_type": "fragment"
    }
   },
   "outputs": [],
   "source": [
    "arr_3d = np.array([[[1, 2, 3, 4],\n",
    "                    [5, 6, 7, 8],\n",
    "                    [9, 8, 7, 6]],\n",
    "                   [[-1, -2, -3, -4],\n",
    "                    [-5, -6, -7, -8],\n",
    "                    [-0, -3, -6, -9]]])\n",
    "print(arr_3d)"
   ]
  },
  {
   "cell_type": "code",
   "execution_count": null,
   "metadata": {
    "slideshow": {
     "slide_type": "fragment"
    }
   },
   "outputs": [],
   "source": [
    "print(\"Shape:\", arr_3d.shape)\n",
    "print(\"Size:\", arr_3d.size)\n",
    "print(\"Dims:\", arr_3d.ndim)"
   ]
  },
  {
   "cell_type": "markdown",
   "metadata": {
    "slideshow": {
     "slide_type": "subslide"
    }
   },
   "source": [
    "We can reshape the array and bind the new *view* of it to another name."
   ]
  },
  {
   "cell_type": "code",
   "execution_count": null,
   "metadata": {
    "slideshow": {
     "slide_type": "fragment"
    }
   },
   "outputs": [],
   "source": [
    "arr_2d = arr_3d.reshape(4, 6)\n",
    "print(arr_2d)"
   ]
  },
  {
   "cell_type": "code",
   "execution_count": null,
   "metadata": {
    "slideshow": {
     "slide_type": "fragment"
    }
   },
   "outputs": [],
   "source": [
    "print(\"Shape:\", arr_2d.shape)\n",
    "print(\"Size:\", arr_2d.size)\n",
    "print(\"Dims:\", arr_2d.ndim)"
   ]
  },
  {
   "cell_type": "code",
   "execution_count": null,
   "metadata": {
    "slideshow": {
     "slide_type": "fragment"
    }
   },
   "outputs": [],
   "source": [
    "arr_1d = arr_3d.reshape(24)\n",
    "print(arr_1d)"
   ]
  },
  {
   "cell_type": "code",
   "execution_count": null,
   "metadata": {
    "slideshow": {
     "slide_type": "fragment"
    }
   },
   "outputs": [],
   "source": [
    "print(\"Shape:\", arr_1d.shape)\n",
    "print(\"Size:\", arr_1d.size)\n",
    "print(\"Dims:\", arr_1d.ndim)"
   ]
  },
  {
   "cell_type": "markdown",
   "metadata": {
    "slideshow": {
     "slide_type": "slide"
    }
   },
   "source": [
    "## Views of the same data"
   ]
  },
  {
   "cell_type": "markdown",
   "metadata": {
    "slideshow": {
     "slide_type": "fragment"
    }
   },
   "source": [
    "Something very interesting happened when we reshaped our array.  It becomes more evident when we modify values using one of the names.  Below we also see the special kind of indexing that NumPy uses, with commas separating the offsets in each dimension."
   ]
  },
  {
   "cell_type": "code",
   "execution_count": null,
   "metadata": {
    "slideshow": {
     "slide_type": "fragment"
    }
   },
   "outputs": [],
   "source": [
    "arr_1d[10] = 999\n",
    "print(\"1D\\n\", arr_1d)\n",
    "print('----------')\n",
    "print(\"2D\\n\", arr_2d)\n",
    "print('----------')\n",
    "print(\"3D\\n\", arr_3d)"
   ]
  },
  {
   "cell_type": "markdown",
   "metadata": {
    "slideshow": {
     "slide_type": "subslide"
    }
   },
   "source": [
    "Let us change data in a different view also:"
   ]
  },
  {
   "cell_type": "code",
   "execution_count": null,
   "metadata": {
    "slideshow": {
     "slide_type": "fragment"
    }
   },
   "outputs": [],
   "source": [
    "arr_3d[1, 1, 3] = 777\n",
    "arr_3d[0, 2, 1] = 444\n",
    "print(\"1D\\n\", arr_1d)\n",
    "print('----------')\n",
    "print(\"2D\\n\", arr_2d)\n",
    "print('----------')\n",
    "print(\"3D\\n\", arr_3d)"
   ]
  },
  {
   "cell_type": "markdown",
   "metadata": {
    "slideshow": {
     "slide_type": "subslide"
    }
   },
   "source": [
    "Notice that we can also *retrieve* values with a comma-separated index, not only set it."
   ]
  },
  {
   "cell_type": "code",
   "execution_count": null,
   "metadata": {
    "slideshow": {
     "slide_type": "fragment"
    }
   },
   "outputs": [],
   "source": [
    "arr_3d[1, 1, 3]"
   ]
  },
  {
   "cell_type": "code",
   "execution_count": null,
   "metadata": {
    "slideshow": {
     "slide_type": "fragment"
    }
   },
   "outputs": [],
   "source": [
    "arr_3d[0, 0, 0]"
   ]
  },
  {
   "cell_type": "code",
   "execution_count": null,
   "metadata": {
    "slideshow": {
     "slide_type": "fragment"
    }
   },
   "outputs": [],
   "source": [
    "arr_2d[1, 4]"
   ]
  },
  {
   "cell_type": "markdown",
   "metadata": {
    "slideshow": {
     "slide_type": "subslide"
    }
   },
   "source": [
    "## Short exercise (array reshaping)\n",
    "\n",
    "* First try to create an 3-D array containing all the odd numbers from 17 to 99. \n",
    "* Next, try viewing the array as having 6 rows and 7 columns.\n",
    "* Change each of the \"corners\" of this 2-D array to contain the value 0 instead of what it had before.\n",
    "* Answer two questions:\n",
    "  * In the 1-D view of the array, what are the offsets of the zeros?\n",
    "  * In the 3-D view of the array, what are the offsets of the zeros?\n",
    "  * Verify your answers by displaying the scalar at each offset you indicated."
   ]
  },
  {
   "cell_type": "code",
   "execution_count": null,
   "metadata": {
    "slideshow": {
     "slide_type": "fragment"
    }
   },
   "outputs": [],
   "source": [
    "# Create the array...\n",
    "\n",
    "# View as 2-D...\n",
    "\n",
    "# Change the values in the corners...\n",
    "\n",
    "# Determine the offsets into 1-D view...\n",
    "\n",
    "# Determine the offsets into 3-D view"
   ]
  },
  {
   "cell_type": "markdown",
   "metadata": {
    "slideshow": {
     "slide_type": "slide"
    }
   },
   "source": [
    "# Ways of creating arrays"
   ]
  },
  {
   "cell_type": "markdown",
   "metadata": {
    "slideshow": {
     "slide_type": "fragment"
    }
   },
   "source": [
    "In above examples, we created NumPy arrays using several different construction functions.  Let us review these and describe a number of additional functions."
   ]
  },
  {
   "cell_type": "markdown",
   "metadata": {
    "slideshow": {
     "slide_type": "subslide"
    }
   },
   "source": [
    "## Zeros and ones\n",
    "\n",
    "The functions `np.zeros()` and `np.ones()` create arrays with those respective values for all elements.  Such an array is a starting point, and we will typically modify selections of values in various ways thereafter."
   ]
  },
  {
   "cell_type": "code",
   "execution_count": null,
   "metadata": {
    "slideshow": {
     "slide_type": "fragment"
    }
   },
   "outputs": [],
   "source": [
    "# Specify shape and dtype on construction\n",
    "np.ones(shape=(3, 7), dtype=np.float32)"
   ]
  },
  {
   "cell_type": "code",
   "execution_count": null,
   "metadata": {
    "slideshow": {
     "slide_type": "fragment"
    }
   },
   "outputs": [],
   "source": [
    "np.zeros(shape=(2, 2, 2, 2), dtype=np.int8)"
   ]
  },
  {
   "cell_type": "markdown",
   "metadata": {
    "slideshow": {
     "slide_type": "subslide"
    }
   },
   "source": [
    "## Empty array\n",
    "\n",
    "`np.empty()` is extremely fast because it simply requests some amount of memory from the operating system and then *does nothing with it*.  Thus, the array returned by `np.empty()` is *uninitialized*. `np.empty()` is useful if you know you are going to fill up all the elements of your array later, but use with caution."
   ]
  },
  {
   "cell_type": "code",
   "execution_count": null,
   "metadata": {
    "slideshow": {
     "slide_type": "fragment"
    }
   },
   "outputs": [],
   "source": [
    "# DANGER!  uninitialized array \n",
    "# (re-run this cell and you will very likely see different values)\n",
    "np.empty(shape=(15,3), dtype=int)"
   ]
  },
  {
   "cell_type": "markdown",
   "metadata": {
    "slideshow": {
     "slide_type": "subslide"
    }
   },
   "source": [
    "## Value ranges\n",
    "\n",
    "`np.arange()` generates sequences of numbers like Python's `range()` built-in.  Non-integer step values may lead to unexpected results; for these cases, you may prefer `np.linspace()`.\n",
    "\n",
    "  * a single value is a stopping point\n",
    "  * two values are a starting point and a stopping point\n",
    "  * three values are a start, a stop, and a step size\n",
    "\n",
    "As with `range`, the ending point is *not* included."
   ]
  },
  {
   "cell_type": "code",
   "execution_count": null,
   "metadata": {
    "slideshow": {
     "slide_type": "fragment"
    }
   },
   "outputs": [],
   "source": [
    "print(\"int arg:\", np.arange(10))     # cf. range(stop)\n",
    "print(\"float arg:\", np.arange(10.0)) # cf. range(stop)\n",
    "print(\"step:\", np.arange(0, 12, 2))  # end point excluded\n",
    "print(\"neg. step:\", np.arange(10, 0, -1.0))\n",
    "print(\"small step:\", np.arange(1, 3, 0.3333)) "
   ]
  },
  {
   "cell_type": "markdown",
   "metadata": {},
   "source": [
    "Notice how we don't get to \"end\" nor include exactly 2 in the last `arange`."
   ]
  },
  {
   "cell_type": "markdown",
   "metadata": {
    "slideshow": {
     "slide_type": "subslide"
    }
   },
   "source": [
    "## Ranges with closed interval\n",
    "\n",
    "In contrast to `np.arange()`, `np.linspace()` and `np.logspace()` allow you to explicitly include both ends of a range. This is difficult or impossible to match exactly with `np.arange()` given floating point rounding issues.  `np.logspace()` is similar to `np.linspace()` but gives points arranged on log scale."
   ]
  },
  {
   "cell_type": "code",
   "execution_count": null,
   "metadata": {
    "slideshow": {
     "slide_type": "fragment"
    }
   },
   "outputs": [],
   "source": [
    "# Balanced distribution of round-up and round-down of steps\n",
    "print(\"0-10 in 4 steps:\\n\", np.linspace(0, 10, 4))\n",
    "print(\"0-10 in 20 steps:\\n\", np.linspace(0, 10, 20))"
   ]
  },
  {
   "cell_type": "code",
   "execution_count": null,
   "metadata": {
    "slideshow": {
     "slide_type": "fragment"
    }
   },
   "outputs": [],
   "source": [
    "from math import e as ℯ\n",
    "print(\"Powers of 10:\", np.logspace(0, 3, 4))\n",
    "print(\"Natural log scale:\", np.logspace(0, 3, 4, base=ℯ))"
   ]
  },
  {
   "cell_type": "markdown",
   "metadata": {
    "slideshow": {
     "slide_type": "subslide"
    }
   },
   "source": [
    "We will look at graphing and calculations in other lessons in this course, but often ranges with defined ends are useful for displaying plots."
   ]
  },
  {
   "cell_type": "code",
   "execution_count": null,
   "metadata": {
    "slideshow": {
     "slide_type": "fragment"
    }
   },
   "outputs": [],
   "source": [
    "%matplotlib inline\n",
    "from math import pi as π\n",
    "from numpy import sin, cos\n",
    "import matplotlib.pyplot as plt\n",
    "\n",
    "x = np.linspace(-π, π, 100)\n",
    "y = sin(x) + cos(2*x)\n",
    "plt.plot(x, y);"
   ]
  },
  {
   "cell_type": "markdown",
   "metadata": {
    "slideshow": {
     "slide_type": "subslide"
    }
   },
   "source": [
    "## Short exercise (creating ranges)\n",
    "\n",
    "* Create an array of 400 64-bit floating point values between 0 and 2π (e.g. radians, perhaps).\n",
    "* Create an array where each row represents a different quadrant of a full 360° rotation.  Each row should contain 100 data points as radians.\n",
    "* Extra Credit: Create an array where each *column* represents a different quadrant of a full 360° rotation."
   ]
  },
  {
   "cell_type": "code",
   "execution_count": null,
   "metadata": {
    "slideshow": {
     "slide_type": "fragment"
    }
   },
   "outputs": [],
   "source": [
    "# Array of radians\n",
    "arr_rad = ...\n",
    "\n",
    "# 2-D array of quadrants\n",
    "arr_quads = ..."
   ]
  },
  {
   "cell_type": "markdown",
   "metadata": {
    "slideshow": {
     "slide_type": "subslide"
    }
   },
   "source": [
    "## Diagonal arrays:  `np.eye` and `np.diag`\n",
    "\n",
    "`np.eye(N)` produces an array with shape (N,N) and ones on the diagonal (an N×N identity matrix). `np.diag()` produces a diagonal 2D array from an array argument (or any iterable). `np.diag()` is its own inverse as well."
   ]
  },
  {
   "cell_type": "code",
   "execution_count": null,
   "metadata": {
    "slideshow": {
     "slide_type": "fragment"
    }
   },
   "outputs": [],
   "source": [
    "print(\"Identity matrix:\")\n",
    "print(np.eye(3))"
   ]
  },
  {
   "cell_type": "code",
   "execution_count": null,
   "metadata": {
    "slideshow": {
     "slide_type": "fragment"
    }
   },
   "outputs": [],
   "source": [
    "print(\"Diagonal matrix:\")\n",
    "print(np.diag([3, 2, 1]))"
   ]
  },
  {
   "cell_type": "code",
   "execution_count": null,
   "metadata": {
    "slideshow": {
     "slide_type": "fragment"
    }
   },
   "outputs": [],
   "source": [
    "# diagonal of an identity matrix ...\n",
    "np.diag(np.eye(3))"
   ]
  },
  {
   "cell_type": "markdown",
   "metadata": {
    "slideshow": {
     "slide_type": "subslide"
    }
   },
   "source": [
    "## Arrays from Random Distributions\n",
    "\n",
    "It is common to create arrays whose elements are samples from a random distribution.  For the many options, see:\n",
    "\n",
    "  * help(np.random) \n",
    "  * [NumPy Random](https://docs.scipy.org/doc/numpy/reference/random/index.html)"
   ]
  },
  {
   "cell_type": "code",
   "execution_count": null,
   "metadata": {
    "slideshow": {
     "slide_type": "fragment"
    }
   },
   "outputs": [],
   "source": [
    "print(\"Uniform on [0,1):\")\n",
    "np.random.random((2, 5))"
   ]
  },
  {
   "cell_type": "code",
   "execution_count": null,
   "metadata": {
    "slideshow": {
     "slide_type": "fragment"
    }
   },
   "outputs": [],
   "source": [
    "print(\"standard normal:\")\n",
    "print(np.random.standard_normal((2, 5))) # call with tuple\n",
    "print(\"randn (equiv):\")\n",
    "print(np.random.randn(2, 5)) # argument per dimension"
   ]
  },
  {
   "cell_type": "code",
   "execution_count": null,
   "metadata": {
    "slideshow": {
     "slide_type": "fragment"
    }
   },
   "outputs": [],
   "source": [
    "print(\"Uniform ints on [0,5) - upper open:\")\n",
    "print(np.random.randint(0, 5, (2, 5)))"
   ]
  },
  {
   "cell_type": "markdown",
   "metadata": {},
   "source": [
    ":::{note}\n",
    "The general recommendation is that new Numpy code should use the appropriate methods of a [Generator](https://numpy.org/doc/stable/reference/random/generator.html#numpy.random.Generator) instance instead.\n",
    ":::"
   ]
  },
  {
   "cell_type": "markdown",
   "metadata": {
    "slideshow": {
     "slide_type": "subslide"
    }
   },
   "source": [
    "## Short exercise (random arrays)\n",
    "\n",
    "* Assuming colors are represented by successive positive integers, create a 3×3×3 cube where each segment is a random color.\n",
    "* Create a diagonal array on a 5×5 matrix where each element of the diagonal is a random \"color.\"\n",
    "* Extra Credit: Create an array of the distinct numbers from 1 to 100 in random order\n",
    "* Extra Credit: Draw a 20×20 array of values from a Poisson distribution."
   ]
  },
  {
   "cell_type": "code",
   "execution_count": null,
   "metadata": {
    "slideshow": {
     "slide_type": "fragment"
    }
   },
   "outputs": [],
   "source": [
    "# Colors\n",
    "RED, GREEN, BLUE = 1, 2, 3\n",
    "\n",
    "# Cube of colors\n",
    "arr_colors = ...\n",
    "\n",
    "# Diagonal of colors\n",
    "arr_diag = ..."
   ]
  },
  {
   "cell_type": "markdown",
   "metadata": {
    "editable": true,
    "slideshow": {
     "slide_type": "slide"
    },
    "tags": []
   },
   "source": [
    "---\n",
    "\n",
    "Materials licensed under [CC BY-NC-ND 4.0](https://creativecommons.org/licenses/by-nc-nd/4.0/) by the authors"
   ]
  }
 ],
 "metadata": {
  "kernelspec": {
   "display_name": "Python 3 (ipykernel)",
   "language": "python",
   "name": "python3"
  },
  "language_info": {
   "codemirror_mode": {
    "name": "ipython",
    "version": 3
   },
   "file_extension": ".py",
   "mimetype": "text/x-python",
   "name": "python",
   "nbconvert_exporter": "python",
   "pygments_lexer": "ipython3",
   "version": "3.12.1"
  },
  "metadata": {
   "interpreter": {
    "hash": "e43d9fbc98ccfae2b5a7336636131ca6aa93ca96107b6661d31bfcac508c6826"
   }
  },
  "widgets": {
   "application/vnd.jupyter.widget-state+json": {
    "state": {},
    "version_major": 2,
    "version_minor": 0
   }
  }
 },
 "nbformat": 4,
 "nbformat_minor": 4
}
