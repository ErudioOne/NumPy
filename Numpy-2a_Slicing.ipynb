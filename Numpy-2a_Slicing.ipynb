{
 "cells": [
  {
   "cell_type": "markdown",
   "metadata": {
    "slideshow": {
     "slide_type": "slide"
    }
   },
   "source": [
    "![NumPy logo](img/numpylogo.svg)"
   ]
  },
  {
   "cell_type": "markdown",
   "metadata": {
    "slideshow": {
     "slide_type": "slide"
    }
   },
   "source": [
    "# Selecting and modifying data\n",
    "\n",
    "In the first module we saw a variety of ways to create arrays, with various shapes and dimensions.  We also had a brief introduction to the idea that a reshaped array is a *view* into the same data."
   ]
  },
  {
   "cell_type": "markdown",
   "metadata": {
    "slideshow": {
     "slide_type": "fragment"
    }
   },
   "source": [
    "In order to perform meaningful computation on data we need to be able to do two main things:\n",
    "\n",
    "* Select only a portion of a larger data collection\n",
    "* Modify values in some systematic way"
   ]
  },
  {
   "cell_type": "markdown",
   "metadata": {
    "slideshow": {
     "slide_type": "subslide"
    }
   },
   "source": [
    "# Slicing\n",
    "\n",
    "NumPy provides a flexible \"slicing\" notation that allows you to select only part of an array.  We saw a very simple version of this notation in the first module, when we used a comma between dimensions.  But we can do much more than that by using *slicing*."
   ]
  },
  {
   "cell_type": "markdown",
   "metadata": {
    "slideshow": {
     "slide_type": "subslide"
    }
   },
   "source": [
    "Let us contrast Python nested lists with NumPy arrays.  There are many differences, but a certain superficial similarity too."
   ]
  },
  {
   "cell_type": "code",
   "execution_count": null,
   "metadata": {
    "slideshow": {
     "slide_type": "fragment"
    }
   },
   "outputs": [],
   "source": [
    "import numpy as np\n",
    "from pprint import pprint\n",
    "lst = [[1, 2, 3, 4],\n",
    "       [5, 9, 7, 8],\n",
    "       [9, 0, 1, 2]]\n",
    "pprint(lst, width=20)"
   ]
  },
  {
   "cell_type": "code",
   "execution_count": null,
   "metadata": {
    "slideshow": {
     "slide_type": "fragment"
    }
   },
   "outputs": [],
   "source": [
    "# We might even make an array out of nested lists\n",
    "arr = np.array(lst)\n",
    "pprint(arr)"
   ]
  },
  {
   "cell_type": "code",
   "execution_count": null,
   "metadata": {
    "slideshow": {
     "slide_type": "subslide"
    }
   },
   "outputs": [],
   "source": [
    "# Could double index into list-of-lists\n",
    "print(\"Index twice in list:\", lst[1][2])\n",
    "\n",
    "# SOMETIMES you'll get the same result with array\n",
    "print(\"Index twice in array:\", arr[1][2])"
   ]
  },
  {
   "cell_type": "markdown",
   "metadata": {
    "slideshow": {
     "slide_type": "subslide"
    }
   },
   "source": [
    "## Indexing Dimensions\n",
    "\n",
    "Almost always you want to use comma-separated indices into each of multiple dimensions.  This will always work, and will be faster even where equivalent to neseted indexing. The same operation will raise an exception for lists."
   ]
  },
  {
   "cell_type": "code",
   "execution_count": null,
   "metadata": {
    "slideshow": {
     "slide_type": "fragment"
    }
   },
   "outputs": [],
   "source": [
    "# Better\n",
    "print(\"Index into dimensions of array:\", arr[1, 2])"
   ]
  },
  {
   "cell_type": "markdown",
   "metadata": {
    "editable": true,
    "slideshow": {
     "slide_type": ""
    },
    "tags": []
   },
   "source": [
    "Showing this a bit more visually:\n",
    "\n",
    "![Dimension indexing](img/numpy-selection.png)"
   ]
  },
  {
   "cell_type": "markdown",
   "metadata": {
    "slideshow": {
     "slide_type": "subslide"
    }
   },
   "source": [
    "## Indexing Slices\n",
    "\n",
    "Just as with Python lists, each dimension may contain a slice into the data.  The Python syntax of `[<start>:<stop>:<step>]` applies here, including each component being optional.  As with Python lists, negative indices, and negative steps, are permitted to count from the end rather than the start."
   ]
  },
  {
   "cell_type": "markdown",
   "metadata": {
    "slideshow": {
     "slide_type": "subslide"
    }
   },
   "source": [
    "Visualization of selecting a row:\n",
    "\n",
    "![Row indexing](img/numpy-row.png)"
   ]
  },
  {
   "cell_type": "markdown",
   "metadata": {
    "slideshow": {
     "slide_type": "fragment"
    }
   },
   "source": [
    "Visualization of selecting a column:\n",
    "\n",
    "![Col indexing](img/numpy-col.png)"
   ]
  },
  {
   "cell_type": "markdown",
   "metadata": {
    "slideshow": {
     "slide_type": "subslide"
    }
   },
   "source": [
    "## Indexing Regions\n",
    "\n",
    "By extension of the above principles, we can also select a *region* of an array.  For example:"
   ]
  },
  {
   "cell_type": "code",
   "execution_count": null,
   "metadata": {
    "slideshow": {
     "slide_type": "fragment"
    }
   },
   "outputs": [],
   "source": [
    "# A 4x5 array\n",
    "arr = np.arange(20).reshape(4, 5)\n",
    "print(\"The 4x5 array:\")\n",
    "print(arr)\n",
    "\n",
    "# Select a middle section of the array\n",
    "print(\"\\nA 2x2 view of the middle:\")\n",
    "print(arr[1:3, 2:4])"
   ]
  },
  {
   "cell_type": "markdown",
   "metadata": {
    "slideshow": {
     "slide_type": "subslide"
    }
   },
   "source": [
    "## Assigning to Regions\n",
    "\n",
    "In the first module, we saw examples of assigning one value into an array.  We can also assign multiple values into regions.  In some cases, this will involve a concept we will look at later, called *broadcasting*."
   ]
  },
  {
   "cell_type": "code",
   "execution_count": null,
   "metadata": {
    "slideshow": {
     "slide_type": "fragment"
    }
   },
   "outputs": [],
   "source": [
    "arr = np.arange(20).reshape(4, 5)\n",
    "arr[1:3, 2:4] = np.random.randint(100, 200, size=4).reshape(2, 2)\n",
    "arr"
   ]
  },
  {
   "cell_type": "code",
   "execution_count": null,
   "metadata": {
    "slideshow": {
     "slide_type": "fragment"
    }
   },
   "outputs": [],
   "source": [
    "arr = np.arange(20).reshape(4, 5)\n",
    "arr[1:3, 2:4] = 999   # Just a scalar?\n",
    "arr"
   ]
  },
  {
   "cell_type": "markdown",
   "metadata": {
    "slideshow": {
     "slide_type": "subslide"
    }
   },
   "source": [
    "## Ellipsis and Open Ranges\n",
    "\n",
    "Sometimes you would like to select all the index positions in some dimension(s).  Doing this is not different than with plain Python lists, just with the extra commas to separate dimensions."
   ]
  },
  {
   "cell_type": "code",
   "execution_count": null,
   "metadata": {
    "slideshow": {
     "slide_type": "subslide"
    }
   },
   "outputs": [],
   "source": [
    "# Create a 3-D array\n",
    "arr = np.linspace(10., 47/3, 18).reshape(2, 3, 3)\n",
    "print(arr)"
   ]
  },
  {
   "cell_type": "code",
   "execution_count": null,
   "metadata": {
    "slideshow": {
     "slide_type": "subslide"
    }
   },
   "outputs": [],
   "source": [
    "# One panel, some columns, all rows\n",
    "arr[1, :, 1:3]"
   ]
  },
  {
   "cell_type": "code",
   "execution_count": null,
   "metadata": {
    "slideshow": {
     "slide_type": "fragment"
    }
   },
   "outputs": [],
   "source": [
    "# One panel, all columns, all rows\n",
    "arr[0, :, :]"
   ]
  },
  {
   "cell_type": "code",
   "execution_count": null,
   "metadata": {
    "slideshow": {
     "slide_type": "fragment"
    }
   },
   "outputs": [],
   "source": [
    "# All panels, all columns, one row\n",
    "arr[:, :, 2]"
   ]
  },
  {
   "cell_type": "markdown",
   "metadata": {
    "slideshow": {
     "slide_type": "subslide"
    }
   },
   "source": [
    "A special symbol allow you to select \"all available\" dimensions over a range. In principle this allows you to do a similar operation without knowing the exact number of dimensions of a given array (but it is only infrequently needed or desirable)."
   ]
  },
  {
   "cell_type": "code",
   "execution_count": null,
   "metadata": {
    "slideshow": {
     "slide_type": "fragment"
    }
   },
   "outputs": [],
   "source": [
    "# All first dimensions, one row\n",
    "arr[..., 2]"
   ]
  },
  {
   "cell_type": "code",
   "execution_count": null,
   "metadata": {
    "slideshow": {
     "slide_type": "fragment"
    }
   },
   "outputs": [],
   "source": [
    "# One from first dimension, all in subsequent dimensions\n",
    "arr[1, ...]"
   ]
  },
  {
   "cell_type": "markdown",
   "metadata": {
    "slideshow": {
     "slide_type": "slide"
    }
   },
   "source": [
    "# Exercises\n",
    "\n",
    "The exercises below can each be done with a provided Python object.  These objects have a few properties.  Simply echoing the object in a cell produces a \"pretty\" display that may emphasize some aspect of the data of interest.\n",
    "\n",
    "Positive numbers are used to indicate \"interesting\" cells for purpose of the exercise, and negative numbers are used to indicate the \"background\" data.  Colors further emphasize this.\n",
    "\n",
    "Each object has an `obj.arr` attribute containing the actual array you should work with.  Each also contains an `obj.result` attribute that contains another array that is some sort of transformation of the original array which you are trying to match."
   ]
  },
  {
   "cell_type": "code",
   "execution_count": null,
   "metadata": {
    "slideshow": {
     "slide_type": "subslide"
    }
   },
   "outputs": [],
   "source": [
    "from src.numpy_exercises import *\n",
    "ex0"
   ]
  },
  {
   "cell_type": "code",
   "execution_count": null,
   "metadata": {
    "slideshow": {
     "slide_type": "subslide"
    }
   },
   "outputs": [],
   "source": [
    "# The array to work with\n",
    "ex0.arr"
   ]
  },
  {
   "cell_type": "code",
   "execution_count": null,
   "metadata": {
    "slideshow": {
     "slide_type": "fragment"
    }
   },
   "outputs": [],
   "source": [
    "# A tranformation we are trying to match\n",
    "ex0.result"
   ]
  },
  {
   "cell_type": "markdown",
   "metadata": {
    "slideshow": {
     "slide_type": "subslide"
    }
   },
   "source": [
    "**Hint**: To verify your answers, you may want to compare your work to the provided result.  NumPy allows comparison of arrays, but it is not just a yes or no answer. E.g."
   ]
  },
  {
   "cell_type": "code",
   "execution_count": null,
   "metadata": {
    "slideshow": {
     "slide_type": "fragment"
    }
   },
   "outputs": [],
   "source": [
    "ex0.arr == ex0.result"
   ]
  },
  {
   "cell_type": "markdown",
   "metadata": {
    "slideshow": {
     "slide_type": "subslide"
    }
   },
   "source": [
    "Fortunately, there is also an `np.all()` function that asks whether every Boolean in an array of comparisons is true.  There is also `np.any()` with a corresponding meaning."
   ]
  },
  {
   "cell_type": "code",
   "execution_count": null,
   "metadata": {
    "slideshow": {
     "slide_type": "fragment"
    }
   },
   "outputs": [],
   "source": [
    "print(\"Any the same:\", np.any(ex0.arr == ex0.result))\n",
    "print(\"All the same:\", np.all(ex0.arr == ex0.result))"
   ]
  },
  {
   "cell_type": "markdown",
   "metadata": {
    "slideshow": {
     "slide_type": "slide"
    }
   },
   "source": [
    "## Selection exercises\n",
    "\n",
    "In each of the next exercises, you wish to select the (positive) values highlighted.  For these exercises, all results must be 2-dimensional arrays.  Be careful not to change the dimensionality of your answer."
   ]
  },
  {
   "cell_type": "code",
   "execution_count": null,
   "metadata": {
    "slideshow": {
     "slide_type": "subslide"
    }
   },
   "outputs": [],
   "source": [
    "# Select the highlighted values\n",
    "ex2_1"
   ]
  },
  {
   "cell_type": "code",
   "execution_count": null,
   "metadata": {
    "slideshow": {
     "slide_type": "subslide"
    }
   },
   "outputs": [],
   "source": [
    "# Select the highlighted values\n",
    "ex2_2"
   ]
  },
  {
   "cell_type": "code",
   "execution_count": null,
   "metadata": {
    "slideshow": {
     "slide_type": "subslide"
    }
   },
   "outputs": [],
   "source": [
    "# Select the highlighted values\n",
    "ex2_3"
   ]
  },
  {
   "cell_type": "code",
   "execution_count": null,
   "metadata": {
    "slideshow": {
     "slide_type": "subslide"
    }
   },
   "outputs": [],
   "source": [
    "# Select the highlighted values\n",
    "ex2_4"
   ]
  },
  {
   "cell_type": "code",
   "execution_count": null,
   "metadata": {
    "slideshow": {
     "slide_type": "subslide"
    }
   },
   "outputs": [],
   "source": [
    "# Select the highlighted values\n",
    "# ...make your solution to this problem and the previous problem identical!\n",
    "ex2_5"
   ]
  },
  {
   "cell_type": "markdown",
   "metadata": {
    "slideshow": {
     "slide_type": "slide"
    }
   },
   "source": [
    "## Assignment exercises\n",
    "\n",
    "The next few exercises build on the selection ones.  You probably need to solve those first problems first.\n",
    "\n",
    "**Note**: In order to avoid overwriting your data, it is a good idea to force a copy of the attached array, and work with that.  You can experiment this way by making fresh copies."
   ]
  },
  {
   "cell_type": "code",
   "execution_count": null,
   "metadata": {
    "slideshow": {
     "slide_type": "subslide"
    }
   },
   "outputs": [],
   "source": [
    "# Make column with index 4 contain the same values as the column with index 2\n",
    "arr = ex2_6.arr.copy()\n",
    "arr      # ... modify this somehow"
   ]
  },
  {
   "cell_type": "code",
   "execution_count": null,
   "metadata": {
    "slideshow": {
     "slide_type": "subslide"
    }
   },
   "outputs": [],
   "source": [
    "# Make the first row contain the first 5 prime numbers\n",
    "arr = ex2_7.arr.copy()\n",
    "print(arr)\n",
    "ex2_7"
   ]
  },
  {
   "cell_type": "code",
   "execution_count": null,
   "metadata": {
    "slideshow": {
     "slide_type": "subslide"
    }
   },
   "outputs": [],
   "source": [
    "# Make every cell of the array contain the value 999\n",
    "arr = ex2_8.arr.copy()\n",
    "print(arr)\n",
    "ex2_8"
   ]
  },
  {
   "cell_type": "code",
   "execution_count": null,
   "metadata": {
    "slideshow": {
     "slide_type": "subslide"
    }
   },
   "outputs": [],
   "source": [
    "# Make the top left 2x2 section of the array contain values 100-103\n",
    "arr = ex2_9.arr.copy()\n",
    "print(arr)\n",
    "ex2_9"
   ]
  },
  {
   "cell_type": "code",
   "execution_count": null,
   "metadata": {
    "slideshow": {
     "slide_type": "subslide"
    }
   },
   "outputs": [],
   "source": [
    "# Solve the same problem as the previous exercise in a DIFFERENT way\n",
    "# Make the top left 2x2 section of the array contain values 100-103\n",
    "arr = ex2_9.arr.copy()\n",
    "ex2_9"
   ]
  },
  {
   "cell_type": "code",
   "execution_count": null,
   "metadata": {
    "slideshow": {
     "slide_type": "subslide"
    }
   },
   "outputs": [],
   "source": [
    "# Make all the positive values be 200-205 rather than 100-105\n",
    "arr = ex2_10.arr.copy()\n",
    "print(arr)\n",
    "ex2_10"
   ]
  },
  {
   "cell_type": "code",
   "execution_count": null,
   "metadata": {
    "slideshow": {
     "slide_type": "subslide"
    }
   },
   "outputs": [],
   "source": [
    "# EXTRA credit: solve the problem in the previous exercise in a DIFFERENT way\n",
    "# Make all the positive values be 200-205 rather than 100-105\n",
    "arr = ex2_10.arr.copy()\n",
    "ex2_10"
   ]
  },
  {
   "cell_type": "code",
   "execution_count": null,
   "metadata": {
    "slideshow": {
     "slide_type": "subslide"
    }
   },
   "outputs": [],
   "source": [
    "# ADVANCED: solve the problem in the previous exercise in a THIRD way\n",
    "# Make all the positive values be 200-205 rather than 100-105\n",
    "arr = ex2_10.arr.copy()\n",
    "ex2_10"
   ]
  }
 ],
 "metadata": {
  "kernelspec": {
   "display_name": "Python 3 (ipykernel)",
   "language": "python",
   "name": "python3"
  },
  "language_info": {
   "codemirror_mode": {
    "name": "ipython",
    "version": 3
   },
   "file_extension": ".py",
   "mimetype": "text/x-python",
   "name": "python",
   "nbconvert_exporter": "python",
   "pygments_lexer": "ipython3",
   "version": "3.10.13"
  },
  "widgets": {
   "application/vnd.jupyter.widget-state+json": {
    "state": {},
    "version_major": 2,
    "version_minor": 0
   }
  }
 },
 "nbformat": 4,
 "nbformat_minor": 4
}
