{
 "cells": [
  {
   "cell_type": "markdown",
   "metadata": {
    "editable": true,
    "slideshow": {
     "slide_type": "slide"
    },
    "tags": []
   },
   "source": [
    "![Erudio logo](img/Erudio-logo.png)\n",
    "\n",
    "---\n",
    "\n",
    "![NumPy logo](img/numpylogo.svg)"
   ]
  },
  {
   "cell_type": "markdown",
   "metadata": {
    "slideshow": {
     "slide_type": "slide"
    }
   },
   "source": [
    "# Selecting and modifying data\n",
    "\n",
    "In the first module we saw a variety of ways to create arrays, with various shapes and dimensions.  We also had a brief introduction to the idea that a reshaped array is a *view* into the same data."
   ]
  },
  {
   "cell_type": "markdown",
   "metadata": {
    "slideshow": {
     "slide_type": "fragment"
    }
   },
   "source": [
    "I order to perform meaningful computation on data we need to be able to do two main things:\n",
    "\n",
    "* Select only a portion of a larger data collection\n",
    "* Modify values in some systematic way"
   ]
  },
  {
   "cell_type": "markdown",
   "metadata": {
    "slideshow": {
     "slide_type": "slide"
    }
   },
   "source": [
    "# Vectorization\n",
    "\n",
    "NumPy is an *array library*, which in computer-programming terms does not mean only that it stores dimensions of elements of the same datatype, but also that operations are performed concurrently.†\n",
    "\n",
    "The way that NumPy achieves concurrency is performing most operations *elementwise*.  That is, each cell or element is modified in a similar fashion, but without dependency between the different operations."
   ]
  },
  {
   "cell_type": "markdown",
   "metadata": {
    "slideshow": {
     "slide_type": "fragment"
    }
   },
   "source": [
    "†A footnote here is to remind students that concurrency is not necessarily parallelism. However, NumPy often also does a good job of taking advantage of multiple cores for actual parallelism as well.\n"
   ]
  },
  {
   "cell_type": "markdown",
   "metadata": {
    "slideshow": {
     "slide_type": "subslide"
    }
   },
   "source": [
    "## Universal functions\n",
    "\n",
    "NumPy uses what it calls *ufuncs* for functions that operate on arrays element-by-element.  Most of these functions also work on scalars directly, but with more overhead than equivalent operations from the Python `math` module where both exist."
   ]
  },
  {
   "cell_type": "markdown",
   "metadata": {
    "slideshow": {
     "slide_type": "fragment"
    }
   },
   "source": [
    "In many cases, ufuncs use a bit of Python magic to allow operator symbols to call apropriate functions behind the scenes."
   ]
  },
  {
   "cell_type": "markdown",
   "metadata": {
    "slideshow": {
     "slide_type": "subslide"
    }
   },
   "source": [
    "A simple plus sign can add arrays:\n",
    "\n",
    "![Sum arrays](img/numpy-sum-arrs.png)"
   ]
  },
  {
   "cell_type": "code",
   "execution_count": null,
   "metadata": {
    "slideshow": {
     "slide_type": "subslide"
    }
   },
   "outputs": [],
   "source": [
    "import numpy as np\n",
    "arr1 = np.linspace(1., 5, 5)\n",
    "arr2 = np.arange(10., 50.1, 10)\n",
    "print(arr1)\n",
    "print(arr2)\n",
    "arr1 + arr2"
   ]
  },
  {
   "cell_type": "code",
   "execution_count": null,
   "metadata": {
    "slideshow": {
     "slide_type": "fragment"
    }
   },
   "outputs": [],
   "source": [
    "# Other spellings of same operation\n",
    "print(\"np.add(arr1, arr2):\", np.add(arr1, arr2))\n",
    "print(\"arr1.__add__(arr2):\", arr1.__add__(arr2))"
   ]
  },
  {
   "cell_type": "markdown",
   "metadata": {
    "slideshow": {
     "slide_type": "subslide"
    }
   },
   "source": [
    "## Types of ufuncs\n",
    "\n",
    "The comparisons and predicates return *boolean arrays*. Most of the other ufuncs return the same dtype as the original array(s), but sometimes type promotion will occur (usually an integer to a floating point number).  Many of these ufuncs are binary, but many others are unary."
   ]
  },
  {
   "cell_type": "markdown",
   "metadata": {
    "slideshow": {
     "slide_type": "fragment"
    }
   },
   "source": [
    "**comparison:** `<`, `<=`, `==`, `!=`, `>=`, `>`"
   ]
  },
  {
   "cell_type": "markdown",
   "metadata": {
    "slideshow": {
     "slide_type": "fragment"
    }
   },
   "source": [
    "**arithmetic:** `+`, `-`, `*`, `/`, `reciprocal`, `square`"
   ]
  },
  {
   "cell_type": "markdown",
   "metadata": {
    "slideshow": {
     "slide_type": "fragment"
    }
   },
   "source": [
    "**exponential:** `exp`, `expm1`, `exp2`, `log`, `log10`, `log1p`, `log2`, `power`, `sqrt`"
   ]
  },
  {
   "cell_type": "markdown",
   "metadata": {
    "slideshow": {
     "slide_type": "fragment"
    }
   },
   "source": [
    "**trig:** `sin`, `cos`, `tan`, `acsin`, `arccos`, `atctan`, `sinh`, `cosh`, `tanh`, `acsinh`, `arccosh`, `atctanh`"
   ]
  },
  {
   "cell_type": "markdown",
   "metadata": {
    "slideshow": {
     "slide_type": "fragment"
    }
   },
   "source": [
    "**bitwise:** `&`, `|`, `~`, `^`, `left_shift`, `right_shift`"
   ]
  },
  {
   "cell_type": "markdown",
   "metadata": {
    "slideshow": {
     "slide_type": "fragment"
    }
   },
   "source": [
    "**logical operations:** `logical_and`, `logical_xor`, `logical_not`, `logical_or`"
   ]
  },
  {
   "cell_type": "markdown",
   "metadata": {
    "slideshow": {
     "slide_type": "fragment"
    }
   },
   "source": [
    "**predicates:** `isfinite`, `isinf`, `isnan`, `signbit`"
   ]
  },
  {
   "cell_type": "markdown",
   "metadata": {
    "slideshow": {
     "slide_type": "fragment"
    }
   },
   "source": [
    "**other:** `abs`, `ceil`, `floor`, `mod`, `modf`, `round`, `sinc`, `sign`, `trunc`"
   ]
  },
  {
   "cell_type": "markdown",
   "metadata": {
    "slideshow": {
     "slide_type": "slide"
    }
   },
   "source": [
    "## Functions and methods\n",
    "\n",
    "Many mathematical operations on arrays are defined as functions in the NumPy module.  A subset of these are also methods on NumPy arrays. For a complete list, see  http://docs.scipy.org/doc/numpy/reference/routines.math.html."
   ]
  },
  {
   "cell_type": "markdown",
   "metadata": {
    "slideshow": {
     "slide_type": "fragment"
    }
   },
   "source": [
    "Notice that some functions/methods are elementwise, but others are reductions."
   ]
  },
  {
   "cell_type": "code",
   "execution_count": null,
   "metadata": {
    "slideshow": {
     "slide_type": "fragment"
    }
   },
   "outputs": [],
   "source": [
    "print(\"Mean as method/function:\", arr1.mean(), np.mean(arr1))\n",
    "print(\"Clip as method/function:\", arr1.clip(2.5, 4.5), np.clip(arr1, 2.5, 4.5))"
   ]
  },
  {
   "cell_type": "markdown",
   "metadata": {
    "slideshow": {
     "slide_type": "subslide"
    }
   },
   "source": [
    "## Elementwise vs. matrix operations\n",
    "\n",
    "Most operations on NumPy arrays are elementwise, but a few—especially in linear algebra—are overall tranformations.  These latter typically change the shape of the result and hence produce new arrays rather than modifying elements in place.  See: [Linear algebra (numpy.linalg)](https://docs.scipy.org/doc/numpy/reference/routines.linalg.html)"
   ]
  },
  {
   "cell_type": "code",
   "execution_count": null,
   "metadata": {
    "slideshow": {
     "slide_type": "fragment"
    }
   },
   "outputs": [],
   "source": [
    "# Several ways to spell dot product\n",
    "print(\"Dot product function:\", np.dot(arr1, arr2))\n",
    "print(\"Dot product method:\", arr1.dot(arr2))\n",
    "print(\"Dot product operator\", arr1 @ arr2)"
   ]
  },
  {
   "cell_type": "code",
   "execution_count": null,
   "metadata": {
    "slideshow": {
     "slide_type": "subslide"
    }
   },
   "outputs": [],
   "source": [
    "# More linear algebra operations\n",
    "np.outer(arr1, arr2)"
   ]
  },
  {
   "cell_type": "code",
   "execution_count": null,
   "metadata": {
    "slideshow": {
     "slide_type": "fragment"
    }
   },
   "outputs": [],
   "source": [
    "np.linalg.eigvals(np.outer(arr1, arr2))"
   ]
  },
  {
   "cell_type": "markdown",
   "metadata": {
    "slideshow": {
     "slide_type": "slide"
    }
   },
   "source": [
    "## Shifting and windows\n",
    "\n",
    "\n",
    "We can use negative indices to indicate positions from the end a Python list or NumPy array.  Moreover, slices are *half-open* intervals, leading to nice additive properties. E.g. `x == x[:N] + x[N:]` (for both positive and negative N)."
   ]
  },
  {
   "cell_type": "markdown",
   "metadata": {
    "slideshow": {
     "slide_type": "fragment"
    }
   },
   "source": [
    "We can use indexing from bothends of arrays to create windows that operate on nearby values."
   ]
  },
  {
   "cell_type": "code",
   "execution_count": null,
   "metadata": {
    "slideshow": {
     "slide_type": "subslide"
    }
   },
   "outputs": [],
   "source": [
    "arr = np.random.randint(0, 100, 10)\n",
    "arr.sort()\n",
    "arr"
   ]
  },
  {
   "cell_type": "code",
   "execution_count": null,
   "metadata": {
    "slideshow": {
     "slide_type": "subslide"
    }
   },
   "outputs": [],
   "source": [
    "# Compute the difference between neighboring values.\n",
    "s1 = arr[1:]\n",
    "s2 = arr[:-1]\n",
    "out = arr[1:] - arr[:-1]\n",
    "print(\"s1\", s1)\n",
    "print(\"s2\", s2)\n",
    "print(\"out\", out)"
   ]
  },
  {
   "cell_type": "markdown",
   "metadata": {
    "slideshow": {
     "slide_type": "subslide"
    }
   },
   "source": [
    "For this specific operation, there is a handy shortcut of `np.diff(arr, n=1)`.  For other adjacency operations, that may not work."
   ]
  },
  {
   "cell_type": "code",
   "execution_count": null,
   "metadata": {
    "slideshow": {
     "slide_type": "fragment"
    }
   },
   "outputs": [],
   "source": [
    "np.diff(arr, n=1)"
   ]
  },
  {
   "cell_type": "markdown",
   "metadata": {
    "slideshow": {
     "slide_type": "slide"
    }
   },
   "source": [
    "# Inplace operations versus copying\n",
    "\n",
    "We showed earlier that you can always explicitly require a copy of an array with `arr.copy()`.  However, most operations make a copy \"behind the scenes.\"  Shaping and slicing do not make copies, but numeric operations do."
   ]
  },
  {
   "cell_type": "markdown",
   "metadata": {
    "slideshow": {
     "slide_type": "fragment"
    }
   },
   "source": [
    "Sometimes copying is desirable, sometimes it is not.  For large arrays where you do not need intermediate results retained, a memory allocation to copy into is unnecessarily exensive (in time and in finite computer memory)."
   ]
  },
  {
   "cell_type": "markdown",
   "metadata": {
    "slideshow": {
     "slide_type": "subslide"
    }
   },
   "source": [
    "For example, here we do several operations that use three memory allocations.  One for `arr1`, one for `arr2`, and a third for `result`."
   ]
  },
  {
   "cell_type": "code",
   "execution_count": null,
   "metadata": {
    "slideshow": {
     "slide_type": "fragment"
    }
   },
   "outputs": [],
   "source": [
    "# allocate initial arrays\n",
    "arr1 = np.logspace(1, 5, 5, base=np.e)\n",
    "arr2 = np.arange(100, 10, -np.pi * 6)\n",
    "print(arr1)\n",
    "print(arr2)"
   ]
  },
  {
   "cell_type": "code",
   "execution_count": null,
   "metadata": {
    "slideshow": {
     "slide_type": "fragment"
    }
   },
   "outputs": [],
   "source": [
    "# Ways of adding into newly allocated array\n",
    "result = arr1 + arr2\n",
    "print(result)\n",
    "result = np.add(arr1, arr2)\n",
    "print(result)"
   ]
  },
  {
   "cell_type": "markdown",
   "metadata": {
    "slideshow": {
     "slide_type": "subslide"
    }
   },
   "source": [
    "While we are unlikely to care about extra 5 element arrays, we might not want to allocate extra 100,000,000 element arrays if we do not need to.  For example, maybe we just want to update the data in `arr1` in a way that utilizes the values in `arr2`."
   ]
  },
  {
   "cell_type": "code",
   "execution_count": null,
   "metadata": {
    "slideshow": {
     "slide_type": "fragment"
    }
   },
   "outputs": [],
   "source": [
    "# Ways of modifying arr1 inplace\n",
    "arr1 = np.logspace(1, 5, 5, base=np.e)\n",
    "arr1 += arr2\n",
    "print(arr1)\n",
    "\n",
    "# Augmented assigment is elegant but many functions do not have operators\n",
    "arr1 = np.logspace(1, 5, 5, base=np.e)\n",
    "np.add(arr1, arr2, out=arr1)\n",
    "print(arr1)"
   ]
  },
  {
   "cell_type": "markdown",
   "metadata": {
    "slideshow": {
     "slide_type": "slide"
    }
   },
   "source": [
    "# Exercises\n",
    "\n",
    "The exercises below can each be done with a provided Python object.  These objects have a few properties.  Simply echoing the object in a cell produces a \"pretty\" display that may emphasize some aspect of the data of interest.\n",
    "\n",
    "Positive numbers are used to indicate \"interesting\" cells for purpose of the exercise, and negative numbers are used to indicate the \"background\" data.  Colors further emphasize this.\n",
    "\n",
    "Each object has an `obj.arr` attribute containing the actual array you should work with.  Each also contains an `obj.result` attribute that contains another array that is some sort of transformation of the original array which you are trying to match."
   ]
  },
  {
   "cell_type": "code",
   "execution_count": null,
   "metadata": {
    "slideshow": {
     "slide_type": "subslide"
    }
   },
   "outputs": [],
   "source": [
    "from src.numpy_exercises import *\n",
    "ex0"
   ]
  },
  {
   "cell_type": "code",
   "execution_count": null,
   "metadata": {
    "slideshow": {
     "slide_type": "subslide"
    }
   },
   "outputs": [],
   "source": [
    "# The array to work with\n",
    "ex0.arr"
   ]
  },
  {
   "cell_type": "code",
   "execution_count": null,
   "metadata": {
    "slideshow": {
     "slide_type": "fragment"
    }
   },
   "outputs": [],
   "source": [
    "# A tranformation we are trying to match\n",
    "ex0.result"
   ]
  },
  {
   "cell_type": "markdown",
   "metadata": {
    "slideshow": {
     "slide_type": "subslide"
    }
   },
   "source": [
    "**Hint**: To verify your answers, you may want to compare your work to the provided result.  NumPy allows comparison of arrays, but it is not just a yes or no answer. E.g."
   ]
  },
  {
   "cell_type": "code",
   "execution_count": null,
   "metadata": {
    "slideshow": {
     "slide_type": "fragment"
    }
   },
   "outputs": [],
   "source": [
    "ex0.arr == ex0.result"
   ]
  },
  {
   "cell_type": "markdown",
   "metadata": {
    "slideshow": {
     "slide_type": "subslide"
    }
   },
   "source": [
    "Fortunately, there is also an `np.all()` function that asks whether every Boolean in an array of comparisons is true.  There is also `np.any()` with a corresponding meaning."
   ]
  },
  {
   "cell_type": "code",
   "execution_count": null,
   "metadata": {
    "slideshow": {
     "slide_type": "fragment"
    }
   },
   "outputs": [],
   "source": [
    "print(\"Any the same:\", np.any(ex0.arr == ex0.result))\n",
    "print(\"All the same:\", np.all(ex0.arr == ex0.result))"
   ]
  },
  {
   "cell_type": "markdown",
   "metadata": {
    "slideshow": {
     "slide_type": "slide"
    }
   },
   "source": [
    "## Elementwise Exercises\n",
    "\n",
    "In each of the next exercises, you will need to transform some or all of the elements of an array in a described fashion."
   ]
  },
  {
   "cell_type": "markdown",
   "metadata": {
    "slideshow": {
     "slide_type": "subslide"
    }
   },
   "source": [
    "Transform each of these array byte values to contain only their \"low order bits.\"  In other words, make the values \"7-bit clean.\""
   ]
  },
  {
   "cell_type": "code",
   "execution_count": null,
   "metadata": {
    "slideshow": {
     "slide_type": "fragment"
    }
   },
   "outputs": [],
   "source": [
    "arr = ex2_11.arr.copy()\n",
    "ex2_11"
   ]
  },
  {
   "cell_type": "code",
   "execution_count": null,
   "metadata": {},
   "outputs": [],
   "source": [
    "ex2_11.result"
   ]
  },
  {
   "cell_type": "code",
   "execution_count": null,
   "metadata": {
    "slideshow": {
     "slide_type": "subslide"
    }
   },
   "outputs": [],
   "source": [
    "# Solve the same problem as the previous exercise using only\n",
    "# operations of a different type than in your first solution\n",
    "# (see the section \"types of ufuncs\" above)\n",
    "arr = ex2_11.arr.copy()"
   ]
  },
  {
   "cell_type": "code",
   "execution_count": null,
   "metadata": {
    "slideshow": {
     "slide_type": "subslide"
    }
   },
   "outputs": [],
   "source": [
    "# Solve the same problem as the previous exercise using only\n",
    "# operations of a THIRD type than in your first two solutions\n",
    "# (see the section \"types of ufuncs\" above)\n",
    "arr = ex2_11.arr.copy()"
   ]
  },
  {
   "cell_type": "markdown",
   "metadata": {
    "slideshow": {
     "slide_type": "subslide"
    }
   },
   "source": [
    "---\n",
    "\n",
    "Each column in `ex2_12` contains angles (in radians) of successive quadrants of a circle.  Transform the first two quadrants by the $sin$ operation and the last two quadrants by the $cos$ operation."
   ]
  },
  {
   "cell_type": "code",
   "execution_count": null,
   "metadata": {
    "slideshow": {
     "slide_type": "fragment"
    }
   },
   "outputs": [],
   "source": [
    "arr = ex2_12.arr.copy()\n",
    "ex2_12"
   ]
  },
  {
   "cell_type": "code",
   "execution_count": null,
   "metadata": {
    "slideshow": {
     "slide_type": "subslide"
    }
   },
   "outputs": [],
   "source": [
    "# Solve the same problem as the previous exercise, but transforming \n",
    "# the array in-place rather than allocating another array for the results\n",
    "# HINT: rebinding a name like `arr = arr.sin()` still makes a copy \n",
    "#       that is garbage collected in a short time, but exists temporarily\n",
    "arr = ex2_12.arr.copy()"
   ]
  },
  {
   "cell_type": "markdown",
   "metadata": {
    "slideshow": {
     "slide_type": "subslide"
    }
   },
   "source": [
    "---\n",
    "\n",
    "Suppose we have a series of temperatures in a 1-D NumPy array, spanning just under a year.  You wish to calculate the mean weekly high for each of the 52 weeks.\n",
    "\n",
    "**Note:** In general, we try to avoid looping in NumPy, but you might first try looping over the weeks."
   ]
  },
  {
   "cell_type": "code",
   "execution_count": null,
   "metadata": {
    "slideshow": {
     "slide_type": "fragment"
    }
   },
   "outputs": [],
   "source": [
    "%matplotlib inline\n",
    "arr = ex2_13.arr.copy()\n",
    "ex2_13"
   ]
  },
  {
   "cell_type": "code",
   "execution_count": null,
   "metadata": {
    "slideshow": {
     "slide_type": "fragment"
    }
   },
   "outputs": [],
   "source": [
    "ex2_13.graph"
   ]
  },
  {
   "cell_type": "markdown",
   "metadata": {
    "slideshow": {
     "slide_type": "subslide"
    }
   },
   "source": [
    "Now try to solve the same problem  as the previous exercise, but not using any loops.\n",
    "\n",
    "**Hint:** Reduction operations in NumPy contain an `axis` argument to control their operation over multidimensional arrays."
   ]
  },
  {
   "cell_type": "code",
   "execution_count": null,
   "metadata": {
    "slideshow": {
     "slide_type": "fragment"
    }
   },
   "outputs": [],
   "source": [
    "# Reduce over an axis\n",
    "arr = ex2_13.arr.copy()"
   ]
  },
  {
   "cell_type": "markdown",
   "metadata": {
    "slideshow": {
     "slide_type": "subslide"
    }
   },
   "source": [
    "## Vectorization exercise\n",
    "\n",
    "In these exercises, we look at ways of writing algorithms using vectorization."
   ]
  },
  {
   "cell_type": "markdown",
   "metadata": {
    "slideshow": {
     "slide_type": "fragment"
    }
   },
   "source": [
    "### The Wallis formula for pi\n",
    "\n",
    "One way of calculating $\\pi$ is with the 1655 Wallis formula:\n",
    "\n",
    "$$\\pi=2\\prod_{i=1}^{\\infty}\\frac{4i^2}{4i^2-1}$$"
   ]
  },
  {
   "cell_type": "markdown",
   "metadata": {
    "slideshow": {
     "slide_type": "subslide"
    }
   },
   "source": [
    "In plain Python, we could write this as below.  Write the same algorithm using NumPy and **not using any loops** in your implementation."
   ]
  },
  {
   "cell_type": "code",
   "execution_count": null,
   "metadata": {
    "slideshow": {
     "slide_type": "fragment"
    }
   },
   "outputs": [],
   "source": [
    "# Play around with number of terms\n",
    "terms = 1000\n",
    "cumprod = 2.0\n",
    "for n in range(1, terms+1):\n",
    "    foursquare = 4 * n**2\n",
    "    cumprod *= foursquare / (foursquare - 1)\n",
    "print(cumprod)"
   ]
  },
  {
   "cell_type": "code",
   "execution_count": null,
   "metadata": {
    "editable": true,
    "slideshow": {
     "slide_type": "subslide"
    },
    "tags": []
   },
   "outputs": [],
   "source": [
    "# Calculate pi using NumPy and Wallis formula\n",
    "ex2_14"
   ]
  },
  {
   "cell_type": "markdown",
   "metadata": {
    "editable": true,
    "slideshow": {
     "slide_type": "slide"
    },
    "tags": []
   },
   "source": [
    "---\n",
    "\n",
    "Materials licensed under [CC BY-NC-ND 4.0](https://creativecommons.org/licenses/by-nc-nd/4.0/) by the authors"
   ]
  }
 ],
 "metadata": {
  "kernelspec": {
   "display_name": "Python 3 (ipykernel)",
   "language": "python",
   "name": "python3"
  },
  "language_info": {
   "codemirror_mode": {
    "name": "ipython",
    "version": 3
   },
   "file_extension": ".py",
   "mimetype": "text/x-python",
   "name": "python",
   "nbconvert_exporter": "python",
   "pygments_lexer": "ipython3",
   "version": "3.12.0"
  },
  "metadata": {
   "interpreter": {
    "hash": "31f2aee4e71d21fbe5cf8b01ff0e069b9275f58929596ceb00d14d90e3e16cd6"
   }
  },
  "widgets": {
   "application/vnd.jupyter.widget-state+json": {
    "state": {},
    "version_major": 2,
    "version_minor": 0
   }
  }
 },
 "nbformat": 4,
 "nbformat_minor": 4
}
