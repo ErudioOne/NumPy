{
 "cells": [
  {
   "cell_type": "markdown",
   "metadata": {
    "editable": true,
    "slideshow": {
     "slide_type": "slide"
    },
    "tags": []
   },
   "source": [
    "![Erudio logo](img/Erudio-logo.png)\n",
    "\n",
    "---\n",
    "\n",
    "![NumPy logo](img/numpylogo.svg)"
   ]
  },
  {
   "cell_type": "markdown",
   "metadata": {
    "slideshow": {
     "slide_type": "slide"
    }
   },
   "source": [
    "# Boolean and Filtered Selection\n",
    "\n",
    "In earlier modules we encountered views created by slicing.  But NumPy also provides a number of ways to view arrays that relate to the specific values in elements or to other calculated predicates"
   ]
  },
  {
   "cell_type": "markdown",
   "metadata": {
    "slideshow": {
     "slide_type": "fragment"
    }
   },
   "source": [
    "Similar to the selections we have looked at already, many of these techniques create view of data without copying memory."
   ]
  },
  {
   "cell_type": "markdown",
   "metadata": {
    "slideshow": {
     "slide_type": "slide"
    }
   },
   "source": [
    "## Predicates on Elements\n",
    "\n",
    "Let us start with a very simple predicative selection."
   ]
  },
  {
   "cell_type": "code",
   "execution_count": null,
   "metadata": {
    "slideshow": {
     "slide_type": "fragment"
    }
   },
   "outputs": [],
   "source": [
    "import numpy as np\n",
    "arr = 3 * np.arange(1, 8.)\n",
    "print(arr)\n",
    "arr[arr > 10]"
   ]
  },
  {
   "cell_type": "markdown",
   "metadata": {
    "slideshow": {
     "slide_type": "subslide"
    }
   },
   "source": [
    "Much of the power of selecting by values is that the selection can be used for modification as well."
   ]
  },
  {
   "cell_type": "code",
   "execution_count": null,
   "metadata": {
    "slideshow": {
     "slide_type": "fragment"
    }
   },
   "outputs": [],
   "source": [
    "arr[arr > 10] /= 5\n",
    "arr"
   ]
  },
  {
   "cell_type": "code",
   "execution_count": null,
   "metadata": {
    "slideshow": {
     "slide_type": "fragment"
    }
   },
   "outputs": [],
   "source": [
    "arr[arr >= 3.5] = arr[arr < 3].mean()\n",
    "arr"
   ]
  },
  {
   "cell_type": "markdown",
   "metadata": {
    "slideshow": {
     "slide_type": "subslide"
    }
   },
   "source": [
    "## Boolean Arrays\n",
    "\n",
    "Under the hood, when we use predicates, we create *Boolean arrays* to express the truth of the predicate relative to each element."
   ]
  },
  {
   "cell_type": "code",
   "execution_count": null,
   "metadata": {
    "slideshow": {
     "slide_type": "fragment"
    }
   },
   "outputs": [],
   "source": [
    "arr = 3 * np.arange(1, 8.)\n",
    "print(arr > 10)\n",
    "print(arr < np.median(arr))"
   ]
  },
  {
   "cell_type": "markdown",
   "metadata": {
    "slideshow": {
     "slide_type": "subslide"
    }
   },
   "source": [
    "As a consequence of predicative indexing really just being on Boolean arrays, those Booleans do not have to originate with the same elements, or same array even, as the ones they index."
   ]
  },
  {
   "cell_type": "code",
   "execution_count": null,
   "metadata": {
    "slideshow": {
     "slide_type": "fragment"
    }
   },
   "outputs": [],
   "source": [
    "arr = np.random.randint(1, 10, 30).reshape(3, 10)\n",
    "print(arr)\n",
    "\n",
    "arr[0, arr[2] > arr[1]] *= 10\n",
    "print(\"\\nFirst row x10 if third row is bigger than second\")\n",
    "print(arr)"
   ]
  },
  {
   "cell_type": "markdown",
   "metadata": {
    "slideshow": {
     "slide_type": "subslide"
    }
   },
   "source": [
    "## `np.where`\n",
    "\n",
    "A powerful way of expressing a choice of mutations is with the function `np.where()`.  There are two different modes of operation of the function: with one Boolean array argument and with a Boolean array and \"when true\" / \"when false\" arguments."
   ]
  },
  {
   "cell_type": "markdown",
   "metadata": {
    "slideshow": {
     "slide_type": "fragment"
    }
   },
   "source": [
    "The one argument form returns a tuple of arrays of indices, one per dimension; these line up in correspondence to identify the elements of interest.  Because these matching elements might occur anywhere without respect to the shape of the original array, the new array becomes a 1-D array.  \n",
    "\n",
    "NumPy does not support *ragged arrays* which will usually result if `np.where(cond)` attempted to preserve shape."
   ]
  },
  {
   "cell_type": "code",
   "execution_count": null,
   "metadata": {
    "slideshow": {
     "slide_type": "subslide"
    }
   },
   "outputs": [],
   "source": [
    "arr = np.random.randint(0, 10, 45).reshape(3, 3, 5)\n",
    "print(arr)"
   ]
  },
  {
   "cell_type": "markdown",
   "metadata": {
    "slideshow": {
     "slide_type": "subslide"
    }
   },
   "source": [
    "The component dimension arrays are usually useful as an intermediate step to getting at underlying values."
   ]
  },
  {
   "cell_type": "code",
   "execution_count": null,
   "metadata": {
    "slideshow": {
     "slide_type": "fragment"
    }
   },
   "outputs": [],
   "source": [
    "indices = np.where(arr % 3 == 0)\n",
    "indices"
   ]
  },
  {
   "cell_type": "code",
   "execution_count": null,
   "metadata": {
    "slideshow": {
     "slide_type": "fragment"
    }
   },
   "outputs": [],
   "source": [
    "arr[indices]"
   ]
  },
  {
   "cell_type": "markdown",
   "metadata": {
    "slideshow": {
     "slide_type": "subslide"
    }
   },
   "source": [
    "### Three-argument `np.where`\n",
    "\n",
    "Some NumPy functions (we already saw `np.eye()` in passing) have notably different behaviors depending on the callng signature or argument types.  When `np.where()` is provided *when_true* and *when_false* arguments it returns an array with the same shape as the original array."
   ]
  },
  {
   "cell_type": "markdown",
   "metadata": {
    "slideshow": {
     "slide_type": "fragment"
    }
   },
   "source": [
    "Often, but not always, the *when_true* and *when_false* arguments are calculations derived from the array(s) involved in the predicate."
   ]
  },
  {
   "cell_type": "code",
   "execution_count": null,
   "metadata": {
    "slideshow": {
     "slide_type": "subslide"
    }
   },
   "outputs": [],
   "source": [
    "# Only use array for predicate\n",
    "arr = np.random.randint(0, 10, 18).reshape(3, 6)\n",
    "print(arr)\n",
    "# Round every value to the min or max of the range\n",
    "np.where(arr < 5, 0, 9)"
   ]
  },
  {
   "cell_type": "code",
   "execution_count": null,
   "metadata": {
    "slideshow": {
     "slide_type": "subslide"
    }
   },
   "outputs": [],
   "source": [
    "# Preserve array in one branch, round in other\n",
    "np.where(arr < 5, arr, 9)"
   ]
  },
  {
   "cell_type": "code",
   "execution_count": null,
   "metadata": {
    "slideshow": {
     "slide_type": "fragment"
    }
   },
   "outputs": [],
   "source": [
    "# Utilize the array in the both branches\n",
    "np.where(arr < 5, -arr, 3*arr)"
   ]
  },
  {
   "cell_type": "code",
   "execution_count": null,
   "metadata": {
    "slideshow": {
     "slide_type": "subslide"
    }
   },
   "outputs": [],
   "source": [
    "# Use two arrays in the comparison. Pick result from one or other\n",
    "arr1 = np.random.randint(0, 10, 10)\n",
    "arr2 = np.random.randint(0, 10, 10)\n",
    "print(arr1)\n",
    "print(arr2)\n",
    "np.where(arr1 < arr2, arr2, arr1)"
   ]
  },
  {
   "cell_type": "code",
   "execution_count": null,
   "metadata": {
    "slideshow": {
     "slide_type": "fragment"
    }
   },
   "outputs": [],
   "source": [
    "# In the specific example, we could also spell this as:\n",
    "print(np.maximum(arr1, arr2))\n",
    "\n",
    "# np.maximum() is different from np.max()\n",
    "np.max([arr1, arr2])"
   ]
  },
  {
   "cell_type": "markdown",
   "metadata": {
    "slideshow": {
     "slide_type": "subslide"
    }
   },
   "source": [
    "## Composing Predicates\n",
    "\n",
    "For technical reasons, we cannot use the Python logical operators `and`, `or`, and `not` to combine predicates.  But we can use the equivalent bit-wise logical operators. Because of operator precedence, you need to surround each component clause with parentheses."
   ]
  },
  {
   "cell_type": "code",
   "execution_count": null,
   "metadata": {
    "slideshow": {
     "slide_type": "fragment"
    }
   },
   "outputs": [],
   "source": [
    "# The numbers up to 100 that are divisible by 3 but not 2\n",
    "arr = np.arange(100)\n",
    "arr[(arr % 3 == 0) & ~(arr % 2 == 0)]"
   ]
  },
  {
   "cell_type": "code",
   "execution_count": null,
   "metadata": {
    "slideshow": {
     "slide_type": "subslide"
    }
   },
   "outputs": [],
   "source": [
    "# The numbers up to 100 that are divisible by 3 or 5 and greater than 75\n",
    "arr[((arr % 3 == 0) | (arr % 5 == 0)) & (arr > 75)]"
   ]
  },
  {
   "cell_type": "markdown",
   "metadata": {
    "slideshow": {
     "slide_type": "subslide"
    }
   },
   "source": [
    "## Contructing Index Tuples\n",
    "\n",
    "We saw that 1-argument `np.where()` returns tuples of coordinates that may be used for indexing.  We can also construct such tuples other ways, such as by hand. In fact, these tuples do not need to contain arrays specifically, any (nested) sequence will do."
   ]
  },
  {
   "cell_type": "code",
   "execution_count": null,
   "metadata": {
    "slideshow": {
     "slide_type": "subslide"
    }
   },
   "outputs": [],
   "source": [
    "arr = np.arange(1, 37).reshape(6, 6)\n",
    "arr"
   ]
  },
  {
   "cell_type": "markdown",
   "metadata": {
    "slideshow": {
     "slide_type": "fragment"
    }
   },
   "source": [
    "The indices need not be in ascending order. Moreover, neither the single dimension indices,\n",
    "nor their combination need be unique."
   ]
  },
  {
   "cell_type": "code",
   "execution_count": null,
   "metadata": {
    "slideshow": {
     "slide_type": "fragment"
    }
   },
   "outputs": [],
   "source": [
    "rows = [1, 1, 3, 4, 4, 5, 5, 4]\n",
    "cols = [5, 1, 4, 1, 3, 3, 3, 4]\n",
    "arr[rows, cols]"
   ]
  },
  {
   "cell_type": "markdown",
   "metadata": {
    "slideshow": {
     "slide_type": "subslide"
    }
   },
   "source": [
    "This tuple of dimensional indices used as an array index selects elements, and they can be modified as well as copied into a new array."
   ]
  },
  {
   "cell_type": "code",
   "execution_count": null,
   "metadata": {
    "slideshow": {
     "slide_type": "fragment"
    }
   },
   "outputs": [],
   "source": [
    "arr[rows, cols] *= 100\n",
    "arr"
   ]
  },
  {
   "cell_type": "markdown",
   "metadata": {
    "slideshow": {
     "slide_type": "subslide"
    }
   },
   "source": [
    "A really interesting feature of these paired (or multiple) aligned dimension indices is that they can have a shape other than one dimensional."
   ]
  },
  {
   "cell_type": "code",
   "execution_count": null,
   "metadata": {
    "slideshow": {
     "slide_type": "fragment"
    }
   },
   "outputs": [],
   "source": [
    "arr = np.arange(1, 37).reshape(6, 6)\n",
    "rows = [[1, 1, 3, 4], [4, 5, 5, 4]]\n",
    "cols = [[5, 1, 4, 1], [3, 3, 3, 4]]\n",
    "arr[rows, cols]"
   ]
  },
  {
   "cell_type": "markdown",
   "metadata": {
    "slideshow": {
     "slide_type": "subslide"
    }
   },
   "source": [
    "However, if used as idices for a modification, the dimensions of the index arrays does not matter, only their alignment with each other.  This makes sense if you think about it: the shape of the result is still the shape of the original array."
   ]
  },
  {
   "cell_type": "code",
   "execution_count": null,
   "metadata": {
    "slideshow": {
     "slide_type": "fragment"
    }
   },
   "outputs": [],
   "source": [
    "arr[rows, cols] *= -1\n",
    "arr"
   ]
  },
  {
   "cell_type": "markdown",
   "metadata": {
    "slideshow": {
     "slide_type": "slide"
    }
   },
   "source": [
    "# Exercises\n",
    "\n",
    "In these exercises, we with to perform selection or modification using  enhanced selection techniques."
   ]
  },
  {
   "cell_type": "code",
   "execution_count": null,
   "metadata": {
    "slideshow": {
     "slide_type": "fragment"
    }
   },
   "outputs": [],
   "source": [
    "from src.numpy_exercises import *"
   ]
  },
  {
   "cell_type": "markdown",
   "metadata": {
    "slideshow": {
     "slide_type": "subslide"
    }
   },
   "source": [
    "Using the same 4-column array of quadrants in radians that we saw in previous exercises, transform the array into the sine of all elements whose cosine is non-negative, and to zero where the cosine is negative."
   ]
  },
  {
   "cell_type": "code",
   "execution_count": null,
   "metadata": {
    "slideshow": {
     "slide_type": "fragment"
    }
   },
   "outputs": [],
   "source": [
    "arr = ex3_1.arr.copy()\n",
    "ex3_1"
   ]
  },
  {
   "cell_type": "code",
   "execution_count": null,
   "metadata": {},
   "outputs": [],
   "source": [
    "ex3_1.result"
   ]
  },
  {
   "cell_type": "markdown",
   "metadata": {
    "slideshow": {
     "slide_type": "subslide"
    }
   },
   "source": [
    "There are different approaches to the last problem.  One obvious approach involves mutating the array using a mask.  Another approach is to perform the modification in one expression.  Try to solve the problem in the other approach from what you did initially."
   ]
  },
  {
   "cell_type": "code",
   "execution_count": null,
   "metadata": {
    "slideshow": {
     "slide_type": "fragment"
    }
   },
   "outputs": [],
   "source": [
    "arr = ex3_1.arr.copy()"
   ]
  },
  {
   "cell_type": "markdown",
   "metadata": {
    "slideshow": {
     "slide_type": "subslide"
    }
   },
   "source": [
    "---\n",
    "\n",
    "Select all the radian values in the now-familiar quadrant array where both the sine and cosine of that value is negative."
   ]
  },
  {
   "cell_type": "code",
   "execution_count": null,
   "metadata": {
    "slideshow": {
     "slide_type": "fragment"
    }
   },
   "outputs": [],
   "source": [
    "arr = ex3_2.arr.copy()\n",
    "ex3_2"
   ]
  },
  {
   "cell_type": "markdown",
   "metadata": {
    "slideshow": {
     "slide_type": "subslide"
    }
   },
   "source": [
    "EXTRA CREDIT: Try to present the collection of radian values in ascending order using NumPy."
   ]
  },
  {
   "cell_type": "code",
   "execution_count": null,
   "metadata": {
    "slideshow": {
     "slide_type": "fragment"
    }
   },
   "outputs": [],
   "source": [
    "arr = ex3_2.arr.copy()"
   ]
  },
  {
   "cell_type": "markdown",
   "metadata": {
    "slideshow": {
     "slide_type": "subslide"
    }
   },
   "source": [
    "---\n",
    "This exercise may require several lines of code.  Replace the radian values whose sine and cosine are both negative with the smallest value in the fourth quadrant that does not have this property."
   ]
  },
  {
   "cell_type": "markdown",
   "metadata": {
    "slideshow": {
     "slide_type": "fragment"
    }
   },
   "source": [
    "Note that we wish to do this *exactly* and also using generalizable techniques.  That is, don't just type in the number you see in the illustration (which will be off by floating point rounding if you do it that way).  But also do not simply select a specific row and column to get the value by manual selection."
   ]
  },
  {
   "cell_type": "code",
   "execution_count": null,
   "metadata": {
    "slideshow": {
     "slide_type": "subslide"
    }
   },
   "outputs": [],
   "source": [
    "arr = ex3_3.arr.copy()\n",
    "print(ex3_3.result)"
   ]
  },
  {
   "cell_type": "markdown",
   "metadata": {
    "slideshow": {
     "slide_type": "subslide"
    }
   },
   "source": [
    "---\n",
    "\n",
    "The array in `ex3_4` simply contains random integers."
   ]
  },
  {
   "cell_type": "code",
   "execution_count": null,
   "metadata": {},
   "outputs": [],
   "source": [
    "arr = np.random.randint(0, 10, 40).astype(float).reshape(4, 10)\n",
    "arr"
   ]
  },
  {
   "cell_type": "markdown",
   "metadata": {
    "slideshow": {
     "slide_type": "subslide"
    }
   },
   "source": [
    "### Sieve of Erotosthenes\n",
    "\n",
    "One of the most famous and oldest known algorithms is the Sieve of Erotosthenes for finding prime numbers.  The general idea is to selectively \"strike out\" the multiples of each prime, starting from 2, then what is left over after all those passes is prime."
   ]
  },
  {
   "cell_type": "markdown",
   "metadata": {
    "slideshow": {
     "slide_type": "subslide"
    }
   },
   "source": [
    "Wikipedia has a nice illustration, copied here.  The saturated/unsaturated for prime/composite shows the algorithm clearly.\n",
    "\n",
    "![Sieve animation](img/Sieve_of_Eratosthenes_animation.gif)\n",
    "\n",
    "(c) [CC-BY-SA](https://commons.wikimedia.org/wiki/File:Sieve_of_Eratosthenes_animation.gif)"
   ]
  },
  {
   "cell_type": "markdown",
   "metadata": {
    "slideshow": {
     "slide_type": "subslide"
    }
   },
   "source": [
    "In plain Python, we can implement this algorithm easily enough."
   ]
  },
  {
   "cell_type": "code",
   "execution_count": null,
   "metadata": {
    "slideshow": {
     "slide_type": "subslide"
    }
   },
   "outputs": [],
   "source": [
    "def py_sieve(limit):\n",
    "    # All positions start out with prime flag\n",
    "    is_prime = [True]*limit\n",
    "    # Zero and one are \"non-prime\"\n",
    "    is_prime[0] = is_prime[1] = False\n",
    "    # It suffices to search up to sqrt of the limit\n",
    "    for d in range(2, int(limit**0.5) + 1):\n",
    "        # No need to strike out multiples of known composites\n",
    "        if is_prime[d]:\n",
    "            # For every multiple flag as non-prime (composite)\n",
    "            for n in range(d*d, limit, d):\n",
    "                is_prime[n] = False  \n",
    "    return is_prime\n",
    "\n",
    "is_prime = py_sieve(10_000_000)"
   ]
  },
  {
   "cell_type": "markdown",
   "metadata": {
    "slideshow": {
     "slide_type": "subslide"
    }
   },
   "source": [
    "The algorithm works, just not particularly quickly.  You should be able to speed it up by about 50 times using NumPy.\n",
    "\n",
    "* Try to make your implementation as fast as the provided one\n",
    "* Try to make your implementation *faster* than the provided one"
   ]
  },
  {
   "cell_type": "code",
   "execution_count": null,
   "metadata": {
    "slideshow": {
     "slide_type": "fragment"
    }
   },
   "outputs": [],
   "source": [
    "is_prime[37], is_prime[38]"
   ]
  },
  {
   "cell_type": "code",
   "execution_count": null,
   "metadata": {
    "slideshow": {
     "slide_type": "fragment"
    }
   },
   "outputs": [],
   "source": [
    "%timeit py_sieve(10_000_000)"
   ]
  },
  {
   "cell_type": "code",
   "execution_count": null,
   "metadata": {
    "slideshow": {
     "slide_type": "fragment"
    }
   },
   "outputs": [],
   "source": [
    "assert np.all(py_sieve(10_000_000) == numpy_sieve(10_000_000))\n",
    "%timeit numpy_sieve(10_000_000)"
   ]
  },
  {
   "cell_type": "code",
   "execution_count": null,
   "metadata": {
    "slideshow": {
     "slide_type": "subslide"
    }
   },
   "outputs": [],
   "source": [
    "# Your efficient implementation using NumPy\n",
    "def numpy_sieve_ex(limit):\n",
    "    ...\n",
    "    return is_prime\n",
    "\n",
    "# How fast is your implementation?\n",
    "%timeit numpy_sieve_ex(10_000_000)"
   ]
  },
  {
   "cell_type": "markdown",
   "metadata": {
    "slideshow": {
     "slide_type": "subslide"
    }
   },
   "source": [
    "Using the function you have implemented above, select only the prime numbers greater than 6,000 from `ex3_4.arr`.  This array contains 100 random integers between 5,000 and 10,000."
   ]
  },
  {
   "cell_type": "code",
   "execution_count": null,
   "metadata": {
    "slideshow": {
     "slide_type": "subslide"
    }
   },
   "outputs": [],
   "source": [
    "arr = ex3_4.arr.copy()\n",
    "ex3_4"
   ]
  },
  {
   "cell_type": "code",
   "execution_count": null,
   "metadata": {
    "editable": true,
    "slideshow": {
     "slide_type": ""
    },
    "tags": []
   },
   "outputs": [],
   "source": [
    "ex3_4.result"
   ]
  },
  {
   "cell_type": "markdown",
   "metadata": {
    "editable": true,
    "slideshow": {
     "slide_type": "slide"
    },
    "tags": []
   },
   "source": [
    "---\n",
    "\n",
    "Materials licensed under [CC BY-NC-ND 4.0](https://creativecommons.org/licenses/by-nc-nd/4.0/) by the authors"
   ]
  }
 ],
 "metadata": {
  "kernelspec": {
   "display_name": "Python 3 (ipykernel)",
   "language": "python",
   "name": "python3"
  },
  "language_info": {
   "codemirror_mode": {
    "name": "ipython",
    "version": 3
   },
   "file_extension": ".py",
   "mimetype": "text/x-python",
   "name": "python",
   "nbconvert_exporter": "python",
   "pygments_lexer": "ipython3",
   "version": "3.12.0"
  },
  "widgets": {
   "application/vnd.jupyter.widget-state+json": {
    "state": {},
    "version_major": 2,
    "version_minor": 0
   }
  }
 },
 "nbformat": 4,
 "nbformat_minor": 4
}
