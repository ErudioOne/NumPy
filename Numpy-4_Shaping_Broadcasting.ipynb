{
 "cells": [
  {
   "cell_type": "markdown",
   "metadata": {
    "editable": true,
    "slideshow": {
     "slide_type": "slide"
    },
    "tags": []
   },
   "source": [
    "![Erudio logo](img/erudio-logo-small.png)\n",
    "---\n",
    "![NumPy logo](img/numpy-logo-small.png)"
   ]
  },
  {
   "cell_type": "markdown",
   "metadata": {
    "editable": true,
    "slideshow": {
     "slide_type": "slide"
    },
    "tags": []
   },
   "source": [
    "# Shaping and Broadcasting\n",
    "\n",
    "Often the operations on arrays are dependent on their shape or shapes.  Being able to manipulate these shapes and how we utilize them is much of the power in using NumPy flexibly."
   ]
  },
  {
   "cell_type": "code",
   "execution_count": null,
   "metadata": {
    "slideshow": {
     "slide_type": "fragment"
    }
   },
   "outputs": [],
   "source": [
    "import numpy as np"
   ]
  },
  {
   "cell_type": "markdown",
   "metadata": {
    "slideshow": {
     "slide_type": "slide"
    }
   },
   "source": [
    "## Broadcasting\n",
    "\n",
    "Sometimes we combine arrays of the same shape with some numeric operation.  But often one or more of the arrays (or scalars) participating in an operation are smaller in some dimensions than the other.  "
   ]
  },
  {
   "cell_type": "markdown",
   "metadata": {
    "slideshow": {
     "slide_type": "fragment"
    }
   },
   "source": [
    "*Broadcasting* is treating an array as if it contained multiple copies of itself along some implied axis."
   ]
  },
  {
   "cell_type": "code",
   "execution_count": null,
   "metadata": {
    "slideshow": {
     "slide_type": "subslide"
    }
   },
   "outputs": [],
   "source": [
    "# Combine two arrays of the same shape\n",
    "arr1 = np.arange(1, 13).reshape(2, 2, 3)\n",
    "arr2 = 10 * np.arange(1, 13).reshape(2, 2, 3)"
   ]
  },
  {
   "cell_type": "code",
   "execution_count": null,
   "metadata": {
    "slideshow": {
     "slide_type": "fragment"
    }
   },
   "outputs": [],
   "source": [
    "print(arr1)\n",
    "print('-----')\n",
    "print(arr2)"
   ]
  },
  {
   "cell_type": "code",
   "execution_count": null,
   "metadata": {
    "slideshow": {
     "slide_type": "subslide"
    }
   },
   "outputs": [],
   "source": [
    "# Combine arrays of the same shape\n",
    "arr2 + arr1"
   ]
  },
  {
   "cell_type": "code",
   "execution_count": null,
   "metadata": {
    "slideshow": {
     "slide_type": "fragment"
    }
   },
   "outputs": [],
   "source": [
    "# Notice that division changes the dtype of the new array\n",
    "arr2 / arr1"
   ]
  },
  {
   "cell_type": "markdown",
   "metadata": {
    "slideshow": {
     "slide_type": "subslide"
    }
   },
   "source": [
    "### Scalars\n",
    "\n",
    "We have already seen that scalar values can be *broadcast* onto an entire array (or onto some selection from them)"
   ]
  },
  {
   "cell_type": "code",
   "execution_count": null,
   "metadata": {
    "slideshow": {
     "slide_type": "fragment"
    }
   },
   "outputs": [],
   "source": [
    "# Mutliply every element by scalar\n",
    "arr1 * 100"
   ]
  },
  {
   "cell_type": "code",
   "execution_count": null,
   "metadata": {
    "slideshow": {
     "slide_type": "fragment"
    }
   },
   "outputs": [],
   "source": [
    "# Add a scalar to a selection of elements only\n",
    "arr1[arr1 % 2 == 0] += 1000\n",
    "print(arr1)"
   ]
  },
  {
   "cell_type": "markdown",
   "metadata": {
    "slideshow": {
     "slide_type": "subslide"
    }
   },
   "source": [
    "### Subset dimensionality\n",
    "\n",
    "The simplest case of array broadcasting to other arrays is when one array simply has fewer dimensions than another, but is the same length in the *last* dimension."
   ]
  },
  {
   "cell_type": "code",
   "execution_count": null,
   "metadata": {
    "slideshow": {
     "slide_type": "fragment"
    }
   },
   "outputs": [],
   "source": [
    "arr1 = np.arange(1, 13).reshape(2, 2, 3)\n",
    "arr2 = np.array([100, 200, 300])\n",
    "print(arr1)\n",
    "print('-----')\n",
    "print(arr2)"
   ]
  },
  {
   "cell_type": "code",
   "execution_count": null,
   "metadata": {
    "slideshow": {
     "slide_type": "fragment"
    }
   },
   "outputs": [],
   "source": [
    "# Combine 3-D array with 1-D array\n",
    "arr1 + arr2"
   ]
  },
  {
   "cell_type": "markdown",
   "metadata": {
    "slideshow": {
     "slide_type": "subslide"
    }
   },
   "source": [
    "NumPy expects compatibility in the length of the last dimension or dimensions.  This is the explicit rule, and Python prefers being explicit to \"do what I mean\" by guessing."
   ]
  },
  {
   "cell_type": "code",
   "execution_count": null,
   "metadata": {
    "slideshow": {
     "slide_type": "subslide"
    }
   },
   "outputs": [],
   "source": [
    "# A 3-D array with same values but different shape than arr1\n",
    "arr3 = np.arange(1, 13).reshape(3, 2, 2)\n",
    "print(arr3)"
   ]
  },
  {
   "cell_type": "code",
   "execution_count": null,
   "metadata": {
    "slideshow": {
     "slide_type": "fragment"
    }
   },
   "outputs": [],
   "source": [
    "try:\n",
    "    print(arr2 + arr3)\n",
    "except Exception as err:\n",
    "    print(err)"
   ]
  },
  {
   "cell_type": "markdown",
   "metadata": {
    "slideshow": {
     "slide_type": "subslide"
    }
   },
   "source": [
    "The rule described works when the *less dimensional* array itself has multiple dimensions."
   ]
  },
  {
   "cell_type": "code",
   "execution_count": null,
   "metadata": {
    "slideshow": {
     "slide_type": "fragment"
    }
   },
   "outputs": [],
   "source": [
    "arr4 = np.array([[10, 100], [-1, -10]])\n",
    "print(\"arr3.shape:\", arr3.shape, \"/ arr4.shape\", arr4.shape)\n",
    "print(\"arr4:\")\n",
    "print(arr4)\n",
    "arr3 * arr4"
   ]
  },
  {
   "cell_type": "markdown",
   "metadata": {
    "slideshow": {
     "slide_type": "subslide"
    }
   },
   "source": [
    "### Combined Dimensionality\n",
    "\n",
    "Sometimes arrays are extended in different lengths in different dimensions, but they can still be broadcast in an unambiguous way."
   ]
  },
  {
   "cell_type": "code",
   "execution_count": null,
   "metadata": {
    "slideshow": {
     "slide_type": "fragment"
    }
   },
   "outputs": [],
   "source": [
    "a1 = np.arange(1, 11).reshape(1, 10)\n",
    "a2 = np.arange(1, 11).reshape(10, 1)\n",
    "print(\"Multiplication Table:\", a1.shape, \"x\", a2.shape)\n",
    "print(a1 * a2)"
   ]
  },
  {
   "cell_type": "markdown",
   "metadata": {
    "slideshow": {
     "slide_type": "subslide"
    }
   },
   "source": [
    "In the above example, both arrays are two dimensional. But the \"row array\" could equally well be 1-D for this purpose.  A column array must inherently be represented in 2-D in NumPy."
   ]
  },
  {
   "cell_type": "code",
   "execution_count": null,
   "metadata": {
    "slideshow": {
     "slide_type": "fragment"
    }
   },
   "outputs": [],
   "source": [
    "a3 = np.arange(1, 11)\n",
    "print(\"Multiplication Table:\", a2.shape, \"x\", a3.shape)\n",
    "print(a2 * a3)"
   ]
  },
  {
   "cell_type": "markdown",
   "metadata": {
    "slideshow": {
     "slide_type": "slide"
    }
   },
   "source": [
    "## The Rules for Broadcasting\n",
    "\n",
    "It can be confusing at first, but you can work through the rules for broadcasting in a step by step way.  These rules *may* tell you you have shapes that cannot be broadcast together."
   ]
  },
  {
   "cell_type": "code",
   "execution_count": null,
   "metadata": {
    "slideshow": {
     "slide_type": "fragment"
    }
   },
   "outputs": [],
   "source": [
    "arr1 = np.arange(1, 11).reshape(1, 10)\n",
    "arr2 = np.arange(1, 11).reshape(2, 5)\n",
    "try:\n",
    "    print(arr1 + arr2)\n",
    "except Exception as err:\n",
    "    print(err)"
   ]
  },
  {
   "cell_type": "markdown",
   "metadata": {
    "slideshow": {
     "slide_type": "fragment"
    }
   },
   "source": [
    "The above has a relatively simple thing it *could* mean: Double the first dimension of the first array, and double the second dimension of the second array, then they would have same shape.  However, NumPy does not make that assumption for you."
   ]
  },
  {
   "cell_type": "markdown",
   "metadata": {
    "slideshow": {
     "slide_type": "subslide"
    }
   },
   "source": [
    "In order for an operation to broadcast, the size of all the trailing dimensions for both arrays must either be *equal* or be *one*.  Dimensions that are one, and dimensions that are missing from the \"head,\" are duplicated to match the larger number.  So, we have:\n",
    "\n",
    "```{list-table} 1d and 2d\n",
    ":header-rows: 1\n",
    ":name: broadcasting-rules-01\n",
    "\n",
    "* - Array\n",
    "  - Shape\n",
    "* - A      (1d array)\n",
    "  - `    3`\n",
    "* - B      (2d array)\n",
    "  - `2 x 3`\n",
    "* - Result (2d array)\n",
    "  - `2 x 3`\n",
    "```\n",
    "\n",
    "```{list-table} 2d and 3d\n",
    ":header-rows: 1\n",
    ":name: broadcasting-rules-02\n",
    ":align: center\n",
    "\n",
    "* - Array\n",
    "  - Shape\n",
    "* - A      (2d array)\n",
    "  - `    6 x 1`\n",
    "* - B      (3d array)\n",
    "  - `1 x 6 x 4`\n",
    "* - Result (3d array)\n",
    "  - `1 x 6 x 4`\n",
    "```\n",
    "\n",
    "```{list-table} 4d and 3d\n",
    ":header-rows: 1\n",
    ":name: broadcasting-rules-03\n",
    ":align: right\n",
    "\n",
    "* - Array\n",
    "  - Shape\n",
    "* - A      (4d array)\n",
    "  - `3 x 1 x 6 x 1`\n",
    "* - B      (3d array)\n",
    "  - `    2 x 1 x 4`\n",
    "* - Result (4d array)\n",
    "  - `3 x 2 x 6 x 4`\n",
    "```\n"
   ]
  },
  {
   "cell_type": "markdown",
   "metadata": {
    "slideshow": {
     "slide_type": "subslide"
    }
   },
   "source": [
    "Phrased slightly differently:\n",
    "    \n",
    "*  Tails must be the same, ones are wildcards.\n",
    "*  If one shape is shorter than the other, pad the shorter shape on the LHS with `1`s.\n",
    "  * Now, from the right, the shapes must be identical with ones acting as wildcards."
   ]
  },
  {
   "cell_type": "markdown",
   "metadata": {
    "slideshow": {
     "slide_type": "slide"
    }
   },
   "source": [
    "## Shaping\n",
    "\n",
    "In several modules, we have seen the `array.reshape()` method, which can achieve any shape we like manually.  However, there are numerous techniques in NumPy to reshape arrays in a way that is contextual to their current shapes."
   ]
  },
  {
   "cell_type": "markdown",
   "metadata": {
    "slideshow": {
     "slide_type": "subslide"
    }
   },
   "source": [
    "### Tiling and New Axes\n",
    "\n",
    "We encounted some problems above where it seemed like broadcasting *should* work, but it does not."
   ]
  },
  {
   "cell_type": "code",
   "execution_count": null,
   "metadata": {
    "slideshow": {
     "slide_type": "fragment"
    }
   },
   "outputs": [],
   "source": [
    "arr1 = np.arange(12).reshape(3, 4)\n",
    "arr2 = 10 * np.arange(3)\n",
    "print('arr1:')\n",
    "print(arr1)\n",
    "print('arr2:')\n",
    "print(arr2)"
   ]
  },
  {
   "cell_type": "code",
   "execution_count": null,
   "metadata": {
    "slideshow": {
     "slide_type": "fragment"
    }
   },
   "outputs": [],
   "source": [
    "# Why not just assume we broadcast to columns?\n",
    "try:\n",
    "    arr1 + arr2\n",
    "except ValueError as err:\n",
    "    print(err)"
   ]
  },
  {
   "cell_type": "markdown",
   "metadata": {
    "slideshow": {
     "slide_type": "subslide"
    }
   },
   "source": [
    "We can solve this problem by calling `.reshape()` to add needed dimensions.  But we can also use a special slice object called `np.newaxis` to \"slice\" into a dimension that does not yet exist."
   ]
  },
  {
   "cell_type": "code",
   "execution_count": null,
   "metadata": {
    "slideshow": {
     "slide_type": "fragment"
    }
   },
   "outputs": [],
   "source": [
    "arr1 + arr2.reshape(3, 1)"
   ]
  },
  {
   "cell_type": "code",
   "execution_count": null,
   "metadata": {
    "slideshow": {
     "slide_type": "subslide"
    }
   },
   "outputs": [],
   "source": [
    "arr1 + arr2[:, np.newaxis]"
   ]
  },
  {
   "cell_type": "markdown",
   "metadata": {
    "slideshow": {
     "slide_type": "subslide"
    }
   },
   "source": [
    "When we broadcast we create *virtual* duplicates of rows, columns, etc.  However, doing this does not actually allocate more memory to hold those new dimensions, it is a sort of slight-of-hand to reuse the data in an existing smaller shape array."
   ]
  },
  {
   "cell_type": "markdown",
   "metadata": {
    "slideshow": {
     "slide_type": "fragment"
    }
   },
   "source": [
    "This virtual duplication only takes (virtual) dimensions of length one to multiply as needed to match the other array in an operation.  In concept, why not allow any multiplication as long as one length evenly divides another?\n",
    "\n",
    "We can construct such virtual dimensions by *tiling*, fortunately."
   ]
  },
  {
   "cell_type": "code",
   "execution_count": null,
   "metadata": {
    "slideshow": {
     "slide_type": "subslide"
    }
   },
   "outputs": [],
   "source": [
    "# We wish to combine a 4x4 array with a 2x2 array\n",
    "arr1 = np.arange(16).reshape(4, 4)\n",
    "arr2 = np.array([[-1, 1], [-10, 10]])\n",
    "print('arr1:')\n",
    "print(arr1)\n",
    "print('arr2:')\n",
    "print(arr2)"
   ]
  },
  {
   "cell_type": "code",
   "execution_count": null,
   "metadata": {
    "slideshow": {
     "slide_type": "subslide"
    }
   },
   "outputs": [],
   "source": [
    "try:\n",
    "    print(arr1 * arr2)\n",
    "except ValueError as err:\n",
    "    print(err)"
   ]
  },
  {
   "cell_type": "code",
   "execution_count": null,
   "metadata": {
    "slideshow": {
     "slide_type": "subslide"
    }
   },
   "outputs": [],
   "source": [
    "arr1 * np.tile(arr2, (2, 2))"
   ]
  },
  {
   "cell_type": "markdown",
   "metadata": {
    "slideshow": {
     "slide_type": "subslide"
    }
   },
   "source": [
    "### Rectangular selection for operations\n",
    "\n",
    "We may not want to tile.  For some purpose, it may make sense to apply the smaller array against only a portion of the larger array.  Of course, the techniques could be combined as well."
   ]
  },
  {
   "cell_type": "code",
   "execution_count": null,
   "metadata": {
    "slideshow": {
     "slide_type": "fragment"
    }
   },
   "outputs": [],
   "source": [
    "# Apply one 2-D array to the middle of another\n",
    "newarr = arr1.copy()\n",
    "print(\"newarr\\n\", newarr)\n",
    "print(\"arr2\\n\", arr2)\n",
    "newarr[1:3, 1:3] *= arr2\n",
    "newarr"
   ]
  },
  {
   "cell_type": "code",
   "execution_count": null,
   "metadata": {
    "slideshow": {
     "slide_type": "subslide"
    }
   },
   "outputs": [],
   "source": [
    "# Tile a 1-D array, but apply it against middle of another\n",
    "newarr = arr1.copy()\n",
    "arr3 = np.array([-100, 100, -20])\n",
    "newarr[1:3, 1:4] += np.tile(arr3, (2, 1))\n",
    "newarr"
   ]
  },
  {
   "cell_type": "markdown",
   "metadata": {
    "slideshow": {
     "slide_type": "slide"
    }
   },
   "source": [
    "# Exercises\n",
    "\n",
    "These exercises use concepts introduced in in this module, and build on concepts you learned earlier."
   ]
  },
  {
   "cell_type": "code",
   "execution_count": null,
   "metadata": {
    "slideshow": {
     "slide_type": "fragment"
    }
   },
   "outputs": [],
   "source": [
    "%matplotlib inline\n",
    "np.set_printoptions(precision=2, suppress=True)\n",
    "from src.numpy_exercises import *"
   ]
  },
  {
   "cell_type": "markdown",
   "metadata": {
    "slideshow": {
     "slide_type": "subslide"
    }
   },
   "source": [
    "## Heat Diffusion\n",
    "\n",
    "This longer exercise is to model heat diffusion in sequential time steps.  There are several simplifying assumption here:\n",
    "\n",
    "* Temperatures are measured in Kelvin, with 0 meaning absolute zero\n",
    "* Outside the \"plate\" we are measuring, all heat diffuses infinitely fast; in other words, the temperatures \"off the grid\" stay at absolute zero.\n",
    "* During one timestep, one half the heat energy of each point transfers to the points adjacent to it (up/down; left/right; diagonals do not allow transfer).\n",
    "* Notice that because of the diffusion outside the plate, the entire plate will also eventually cool to absolute zero"
   ]
  },
  {
   "cell_type": "markdown",
   "metadata": {
    "slideshow": {
     "slide_type": "subslide"
    }
   },
   "source": [
    "In a small plate we might see this in the first four timesteps:\n",
    "\n",
    "Timestep 0:\n",
    "```\n",
    "\n",
    "[[  0.   0.   0.]\n",
    " [  0. 310.   0.]\n",
    " [  0.   0.   0.]]\n",
    "```"
   ]
  },
  {
   "cell_type": "markdown",
   "metadata": {
    "slideshow": {
     "slide_type": "subslide"
    }
   },
   "source": [
    "Timestep 1:\n",
    "```\n",
    "[[  0.    38.75   0.  ]\n",
    " [ 38.75 155.    38.75]\n",
    " [  0.    38.75   0.  ]]\n",
    "```"
   ]
  },
  {
   "cell_type": "markdown",
   "metadata": {
    "slideshow": {
     "slide_type": "subslide"
    }
   },
   "source": [
    "Timestep 2:\n",
    "```\n",
    "[[ 9.69 38.75  9.69]\n",
    " [38.75 96.88 38.75]\n",
    " [ 9.69 38.75  9.69]]\n",
    "```"
   ]
  },
  {
   "cell_type": "markdown",
   "metadata": {
    "slideshow": {
     "slide_type": "subslide"
    }
   },
   "source": [
    "Timestep 3:\n",
    "```\n",
    "[[14.53 33.91 14.53]\n",
    " [33.91 67.81 33.91]\n",
    " [14.53 33.91 14.53]]\n",
    "```"
   ]
  },
  {
   "cell_type": "markdown",
   "metadata": {
    "slideshow": {
     "slide_type": "subslide"
    }
   },
   "source": [
    "In this exercise you want to implement a `step()` function that can move forward through timesteps of the heat diffusion.  The `.result` provided in the exercise is what you should obtain after ten timesteps."
   ]
  },
  {
   "cell_type": "code",
   "execution_count": null,
   "metadata": {
    "slideshow": {
     "slide_type": "subslide"
    }
   },
   "outputs": [],
   "source": [
    "arr = ex4_1.arr.copy()\n",
    "ex4_1.new()\n",
    "ex4_1"
   ]
  },
  {
   "cell_type": "code",
   "execution_count": null,
   "metadata": {
    "slideshow": {
     "slide_type": "subslide"
    }
   },
   "outputs": [],
   "source": [
    "ex4_1.graph"
   ]
  },
  {
   "cell_type": "markdown",
   "metadata": {
    "slideshow": {
     "slide_type": "subslide"
    }
   },
   "source": [
    "**Bonus Question**: How many timesteps do you need to take until the entire plate reaches absolute zero (within rounding errors)?  Note that `.frozen_step` contains the answer to compare to."
   ]
  },
  {
   "cell_type": "code",
   "execution_count": null,
   "metadata": {
    "slideshow": {
     "slide_type": "fragment"
    }
   },
   "outputs": [],
   "source": [
    "print(\"Timesteps to absolute zero:\", ex4_1.frozen_step)\n",
    "arr = ex4_1.arr.copy()"
   ]
  },
  {
   "cell_type": "markdown",
   "metadata": {
    "slideshow": {
     "slide_type": "subslide"
    }
   },
   "source": [
    "---\n",
    "\n",
    "**Extra Credit**: Create a variation of your step function that allows you to control diffusion rate.  I.e. change the 50% diffusion at each timestep to a different value.  Note that no code or attribute to test this is provided; you will need to develop your own tests for your code."
   ]
  },
  {
   "cell_type": "code",
   "execution_count": null,
   "metadata": {
    "slideshow": {
     "slide_type": "fragment"
    }
   },
   "outputs": [],
   "source": [
    "def step(heat_arr, diffusion=0.5):\n",
    "    # Do stuff here\n",
    "    return new_heat"
   ]
  },
  {
   "cell_type": "markdown",
   "metadata": {
    "slideshow": {
     "slide_type": "subslide"
    }
   },
   "source": [
    "---\n",
    "\n",
    "**Extra Extra Credit**: Can you make a variation of the diffusion `step()` function that includes diagnally adjascent grid points? What about one that allows influence from \"nearby\" grid points that are not immediately adjacent?"
   ]
  },
  {
   "cell_type": "code",
   "execution_count": null,
   "metadata": {
    "editable": true,
    "slideshow": {
     "slide_type": "fragment"
    },
    "tags": []
   },
   "outputs": [],
   "source": [
    "def step_plus(heat_arr, specs=...):\n",
    "    # Do stuff here\n",
    "    return new_heat"
   ]
  },
  {
   "cell_type": "markdown",
   "metadata": {
    "editable": true,
    "slideshow": {
     "slide_type": "slide"
    },
    "tags": []
   },
   "source": [
    "---\n",
    "\n",
    "Materials licensed under [CC BY-NC-ND 4.0](https://creativecommons.org/licenses/by-nc-nd/4.0/) by the authors"
   ]
  }
 ],
 "metadata": {
  "kernelspec": {
   "display_name": "Python 3 (ipykernel)",
   "language": "python",
   "name": "python3"
  },
  "language_info": {
   "codemirror_mode": {
    "name": "ipython",
    "version": 3
   },
   "file_extension": ".py",
   "mimetype": "text/x-python",
   "name": "python",
   "nbconvert_exporter": "python",
   "pygments_lexer": "ipython3",
   "version": "3.12.1"
  },
  "widgets": {
   "application/vnd.jupyter.widget-state+json": {
    "state": {},
    "version_major": 2,
    "version_minor": 0
   }
  }
 },
 "nbformat": 4,
 "nbformat_minor": 4
}
