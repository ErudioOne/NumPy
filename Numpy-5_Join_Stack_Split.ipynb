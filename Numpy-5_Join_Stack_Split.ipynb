{
 "cells": [
  {
   "cell_type": "markdown",
   "metadata": {
    "editable": true,
    "slideshow": {
     "slide_type": "slide"
    },
    "tags": []
   },
   "source": [
    "![Erudio logo](img/Erudio-logo.png)\n",
    "\n",
    "---\n",
    "\n",
    "![NumPy logo](img/numpylogo.svg)"
   ]
  },
  {
   "cell_type": "markdown",
   "metadata": {
    "slideshow": {
     "slide_type": "slide"
    }
   },
   "source": [
    "# Joining, Stacking, and Spliting Arrays\n",
    "\n",
    "While many of the operations on arrays that we have seen in earlier modules produce new arrays, largely it amounted to deriving values from existing ones rather than aggragating as such."
   ]
  },
  {
   "cell_type": "code",
   "execution_count": null,
   "metadata": {
    "slideshow": {
     "slide_type": "fragment"
    }
   },
   "outputs": [],
   "source": [
    "import numpy as np"
   ]
  },
  {
   "cell_type": "markdown",
   "metadata": {
    "slideshow": {
     "slide_type": "slide"
    }
   },
   "source": [
    "## Reductions\n",
    "\n",
    "In passing we have looked at some reductions.  Often it is useful to take a collection of values and produce an aggregate scalar result.  By default, most reduction operations do that. However, almost all of them also accept an `axis` argument to only reduce in one particular dimensions."
   ]
  },
  {
   "cell_type": "code",
   "execution_count": null,
   "metadata": {
    "slideshow": {
     "slide_type": "subslide"
    }
   },
   "outputs": [],
   "source": [
    "# Create a 3-D array\n",
    "arr = np.arange(0, 12).reshape(2, 2, 3)\n",
    "print(arr)"
   ]
  },
  {
   "cell_type": "code",
   "execution_count": null,
   "metadata": {
    "slideshow": {
     "slide_type": "fragment"
    }
   },
   "outputs": [],
   "source": [
    "# Reduce globally\n",
    "arr.sum(axis=None)"
   ]
  },
  {
   "cell_type": "code",
   "execution_count": null,
   "metadata": {
    "slideshow": {
     "slide_type": "subslide"
    }
   },
   "outputs": [],
   "source": [
    "# Reduce over panels\n",
    "arr.sum(axis=0)"
   ]
  },
  {
   "cell_type": "code",
   "execution_count": null,
   "metadata": {
    "slideshow": {
     "slide_type": "fragment"
    }
   },
   "outputs": [],
   "source": [
    "# Reduce over columns\n",
    "arr.sum(axis=1)"
   ]
  },
  {
   "cell_type": "code",
   "execution_count": null,
   "metadata": {
    "slideshow": {
     "slide_type": "fragment"
    }
   },
   "outputs": [],
   "source": [
    "# Reduce over rows\n",
    "arr.sum(axis=2)"
   ]
  },
  {
   "cell_type": "markdown",
   "metadata": {
    "slideshow": {
     "slide_type": "subslide"
    }
   },
   "source": [
    "It is more to keep track of, but we can also reduce over multiple dimensions while retaining others.  Past three dimensions, it mostly only makes sense to call these \"dimension zero\", \"dimension one\", and so on, as the ordinary words like \"rows\" and \"columns\" are not easy to correlate, nor adequate for most dimensions."
   ]
  },
  {
   "cell_type": "code",
   "execution_count": null,
   "metadata": {
    "slideshow": {
     "slide_type": "subslide"
    }
   },
   "outputs": [],
   "source": [
    "# Sum over columns and rows\n",
    "print(arr.sum(axis=(1,2)))\n",
    "\n",
    "# Slightly less efficient (and more verbose)\n",
    "# The intermediate result has 2 not 3 dimensions; index adjusts down\n",
    "print('-----')\n",
    "print(arr.sum(axis=1).sum(axis=1))"
   ]
  },
  {
   "cell_type": "markdown",
   "metadata": {
    "slideshow": {
     "slide_type": "slide"
    }
   },
   "source": [
    "## Combining Arrays\n",
    "\n",
    "Sometimes we want to combine multiple arrays simply by concatenation of some sort.  The most general operation is `np.concatenate()`, but a number of special functions also exist.  Note that we pass in one collection (e.g. a list or tuple) of arrays to operate on, not separate arguments for each."
   ]
  },
  {
   "cell_type": "code",
   "execution_count": null,
   "metadata": {
    "slideshow": {
     "slide_type": "fragment"
    }
   },
   "outputs": [],
   "source": [
    "arr1 = np.arange(0, 12).reshape(2, 2, 3)\n",
    "arr2 = np.arange(0, 120, 10).reshape(2, 2, 3)"
   ]
  },
  {
   "cell_type": "code",
   "execution_count": null,
   "metadata": {
    "slideshow": {
     "slide_type": "subslide"
    }
   },
   "outputs": [],
   "source": [
    "# By default axis=0, along the panels here\n",
    "print(np.concatenate([arr1, arr2]))"
   ]
  },
  {
   "cell_type": "code",
   "execution_count": null,
   "metadata": {
    "slideshow": {
     "slide_type": "subslide"
    }
   },
   "outputs": [],
   "source": [
    "# Concatenate the columns\n",
    "print(np.concatenate([arr1, arr2], axis=1))"
   ]
  },
  {
   "cell_type": "code",
   "execution_count": null,
   "metadata": {
    "slideshow": {
     "slide_type": "subslide"
    }
   },
   "outputs": [],
   "source": [
    "# Concatenate the rows\n",
    "print(np.concatenate([arr1, arr2], axis=2))"
   ]
  },
  {
   "cell_type": "markdown",
   "metadata": {
    "slideshow": {
     "slide_type": "subslide"
    }
   },
   "source": [
    "### Special forms\n",
    "\n",
    "We have some shortcut or mnemonic functions for some specific operations.  \n",
    "\n",
    "`np.r_` and `np.c_` are special objects that can be \"sliced\" to concetanate.  These are meant to make you think of \"copy rows\" and \"copy columns\" in their operation.  "
   ]
  },
  {
   "cell_type": "code",
   "execution_count": null,
   "metadata": {
    "slideshow": {
     "slide_type": "subslide"
    }
   },
   "outputs": [],
   "source": [
    "m1 = np.array([[5, 7], [6, 8]])\n",
    "m2 = np.array([[10, 20], [30, 40]])\n",
    "print(np.r_[m1, m2])"
   ]
  },
  {
   "cell_type": "code",
   "execution_count": null,
   "metadata": {
    "slideshow": {
     "slide_type": "fragment"
    }
   },
   "outputs": [],
   "source": [
    "# Now columns\n",
    "print(np.c_[m1, m2])"
   ]
  },
  {
   "cell_type": "markdown",
   "metadata": {
    "slideshow": {
     "slide_type": "subslide"
    }
   },
   "source": [
    "Technically, `np.r_` and `np.c_` just mean axes 0 and 1.  But they become less intuitive for higher dimensions."
   ]
  },
  {
   "cell_type": "code",
   "execution_count": null,
   "metadata": {
    "slideshow": {
     "slide_type": "fragment"
    }
   },
   "outputs": [],
   "source": [
    "# This is really \"concetanate panels\"\n",
    "arr1 = np.arange(0, 12).reshape(2, 2, 3)\n",
    "arr2 = np.arange(0, 120, 10).reshape(2, 2, 3)\n",
    "np.r_[arr1, arr2]"
   ]
  },
  {
   "cell_type": "markdown",
   "metadata": {
    "slideshow": {
     "slide_type": "subslide"
    }
   },
   "source": [
    "You can also use these shortcut objects to combine more than two arrays."
   ]
  },
  {
   "cell_type": "code",
   "execution_count": null,
   "metadata": {
    "slideshow": {
     "slide_type": "fragment"
    }
   },
   "outputs": [],
   "source": [
    "np.c_[np.arange(8), np.arange(8)*2, np.arange(8)*3, np.arange(8)*4]"
   ]
  },
  {
   "cell_type": "markdown",
   "metadata": {
    "slideshow": {
     "slide_type": "subslide"
    }
   },
   "source": [
    "### Tiling versus concatenation\n",
    "\n",
    "We looked at using `np.tile()` to get arrays of *compatible* shapes for broadcast combination.  In some sense we can do the same thing using concatenation of an array with itself.  The difference is that concatenations always copy the underlying values while tiles just remember the shape of the tiling but copy no values.\n",
    "\n",
    "For arrays with tens or hundreds of values, this is insignificant, but when you are working with hundreds of millions of values, it can be important."
   ]
  },
  {
   "cell_type": "code",
   "execution_count": null,
   "metadata": {
    "slideshow": {
     "slide_type": "fragment"
    }
   },
   "outputs": [],
   "source": [
    "from sys import getsizeof\n",
    "arr = np.arange(8)\n",
    "print(arr)\n",
    "print(\"Size of original array:\", getsizeof(arr))\n",
    "print(\"Smallest possible array:\", getsizeof(np.array(0, dtype=np.byte)))"
   ]
  },
  {
   "cell_type": "code",
   "execution_count": null,
   "metadata": {
    "slideshow": {
     "slide_type": "subslide"
    }
   },
   "outputs": [],
   "source": [
    "# Tiling describes the shape of the tile and references original\n",
    "t = np.tile(arr, (5, 4))\n",
    "print(t)\n",
    "# This size contains a single reference to the original arr\n",
    "print(\"Size of tiling object:\", getsizeof(t))"
   ]
  },
  {
   "cell_type": "code",
   "execution_count": null,
   "metadata": {},
   "outputs": [],
   "source": [
    "# Concatenate makes copies greedily\n",
    "cat = np.concatenate([arr, arr, arr, arr]).reshape(1, -1)\n",
    "cat = np.concatenate([cat, cat, cat, cat, cat])\n",
    "print(cat)\n",
    "print(\"Size of concetenation:\", getsizeof(cat))"
   ]
  },
  {
   "cell_type": "markdown",
   "metadata": {
    "slideshow": {
     "slide_type": "subslide"
    }
   },
   "source": [
    "## More on Shaping"
   ]
  },
  {
   "cell_type": "markdown",
   "metadata": {
    "slideshow": {
     "slide_type": "fragment"
    }
   },
   "source": [
    "When calling `.reshape()`, `-1` can be used as a wildcard that will fill in the shape for one dimension, based on the others.  For small arrays, finding the factorization of the size is not particularly hard.  But in high dimensions and with large sizes, it is sometimes easier not to bother."
   ]
  },
  {
   "cell_type": "code",
   "execution_count": null,
   "metadata": {
    "slideshow": {
     "slide_type": "subslide"
    }
   },
   "outputs": [],
   "source": [
    "arr = np.arange(1, 11)\n",
    "print(arr)"
   ]
  },
  {
   "cell_type": "code",
   "execution_count": null,
   "metadata": {
    "slideshow": {
     "slide_type": "fragment"
    }
   },
   "outputs": [],
   "source": [
    "# shape of 5 x ? -> 5 x 2\n",
    "print(arr.reshape(5, -1))"
   ]
  },
  {
   "cell_type": "code",
   "execution_count": null,
   "metadata": {
    "slideshow": {
     "slide_type": "fragment"
    }
   },
   "outputs": [],
   "source": [
    "# shape of ? x 5 -> 2 x 5\n",
    "arr.reshape(-1, 5)"
   ]
  },
  {
   "cell_type": "markdown",
   "metadata": {
    "slideshow": {
     "slide_type": "subslide"
    }
   },
   "source": [
    "Some other shaping utilities include:  \n",
    "\n",
    "  * `.ravel()`\n",
    "  * `.flatten()`\n",
    "  * `.squeeze()`\n",
    "\n",
    "`.flatten()`, like its name implies, makes a 1-D version of the array.  `.ravel()` behaves similarly, but it will try to avoid making a copy (i.e. usually it creates a view).\n",
    "\n",
    "Run `help(<arr.method>)` to get more information on these functions, or on any functions."
   ]
  },
  {
   "cell_type": "markdown",
   "metadata": {
    "slideshow": {
     "slide_type": "slide"
    }
   },
   "source": [
    "# Exercises\n",
    "\n",
    "Each of these exercises will ask you to create new arrays based on existing ones, generally utilizing both what you have learned in this module, and also techniques in earlier modules about slicing, selecting, reshaping, and so on."
   ]
  },
  {
   "cell_type": "code",
   "execution_count": null,
   "metadata": {
    "slideshow": {
     "slide_type": "fragment"
    }
   },
   "outputs": [],
   "source": [
    "from src.numpy_exercises import *"
   ]
  },
  {
   "cell_type": "markdown",
   "metadata": {
    "slideshow": {
     "slide_type": "subslide"
    }
   },
   "source": [
    "In this exercise, the starting array is 4✕4, with the same value in each \"quadrant\" of it.  Transform this array into one that is 2✕8 instead, with the numbers arranged in in sequential order by 2✕2 block.  \n",
    "\n",
    "While there are many ways you might create the desired result independently, do so as a transformation of the provided original (i.e. do not assume the values are 1, 2, 3, 4; they might be 16 different values).  Note that `arr.reshape(2, 8)` will create the desired shape, but will not put the numbers in desired positions."
   ]
  },
  {
   "cell_type": "code",
   "execution_count": null,
   "metadata": {
    "slideshow": {
     "slide_type": "fragment"
    }
   },
   "outputs": [],
   "source": [
    "# Transform into 2 by 8 keeping same numbers in sub-blocks\n",
    "arr = ex5_1.arr.copy()\n",
    "ex5_1"
   ]
  },
  {
   "cell_type": "code",
   "execution_count": null,
   "metadata": {},
   "outputs": [],
   "source": [
    "ex5_1.result"
   ]
  },
  {
   "cell_type": "markdown",
   "metadata": {
    "slideshow": {
     "slide_type": "subslide"
    }
   },
   "source": [
    "There are a number of ways to obtain the result using techniques we have learned.  Try to do it differently than in the prior exercise."
   ]
  },
  {
   "cell_type": "code",
   "execution_count": null,
   "metadata": {
    "slideshow": {
     "slide_type": "fragment"
    }
   },
   "outputs": [],
   "source": [
    "arr = ex5_1.arr.copy()"
   ]
  },
  {
   "cell_type": "markdown",
   "metadata": {
    "slideshow": {
     "slide_type": "subslide"
    }
   },
   "source": [
    "---\n",
    "\n",
    "Reverse the transformation in the prior exercice.  I.e. we start with 2✕8, in the arrangement shown, and we want to get back to the shape and position of numbers in the original 4✕4 array."
   ]
  },
  {
   "cell_type": "code",
   "execution_count": null,
   "metadata": {
    "slideshow": {
     "slide_type": "fragment"
    }
   },
   "outputs": [],
   "source": [
    "arr = ex5_2.arr.copy()\n",
    "ex5_2"
   ]
  },
  {
   "cell_type": "markdown",
   "metadata": {
    "slideshow": {
     "slide_type": "subslide"
    }
   },
   "source": [
    "There are a number of ways to obtain the result using techniques we have learned.  Try to do it differently than in the prior exercise."
   ]
  },
  {
   "cell_type": "code",
   "execution_count": null,
   "metadata": {
    "slideshow": {
     "slide_type": "fragment"
    }
   },
   "outputs": [],
   "source": [
    "arr = ex5_2.arr.copy()\n",
    "arr"
   ]
  },
  {
   "cell_type": "markdown",
   "metadata": {
    "slideshow": {
     "slide_type": "subslide"
    }
   },
   "source": [
    "---\n",
    "\n",
    "From the 2✕8 array in the last exercise, transform the array into a 1-D array where each sub-block is contiguous.  In the example, this will be equivalent to monotonic ascending order; but again, do not rely on the specific values in the array used for illustration."
   ]
  },
  {
   "cell_type": "code",
   "execution_count": null,
   "metadata": {
    "slideshow": {
     "slide_type": "fragment"
    }
   },
   "outputs": [],
   "source": [
    "arr = ex5_3.arr.copy()\n",
    "print(ex5_3.result)"
   ]
  },
  {
   "cell_type": "markdown",
   "metadata": {
    "slideshow": {
     "slide_type": "subslide"
    }
   },
   "source": [
    "There are a number of ways to obtain the result using techniques we have learned.  Try to do it differently than in the prior exercise."
   ]
  },
  {
   "cell_type": "code",
   "execution_count": null,
   "metadata": {
    "slideshow": {
     "slide_type": "fragment"
    }
   },
   "outputs": [],
   "source": [
    "arr = ex5_3.arr.copy()"
   ]
  },
  {
   "cell_type": "markdown",
   "metadata": {
    "slideshow": {
     "slide_type": "subslide"
    }
   },
   "source": [
    "---\n",
    "\n",
    "Similarly to some above exercises, reverse the transformation from a 1-D array into a 2✕8 array with 2✕2 sub-blocks taken from contiguous portions of the 1-D aray."
   ]
  },
  {
   "cell_type": "code",
   "execution_count": null,
   "metadata": {
    "slideshow": {
     "slide_type": "fragment"
    }
   },
   "outputs": [],
   "source": [
    "arr = ex5_4.arr.copy()\n",
    "ex5_4"
   ]
  },
  {
   "cell_type": "markdown",
   "metadata": {
    "slideshow": {
     "slide_type": "subslide"
    }
   },
   "source": [
    "---\n",
    "\n",
    "Tranform a 2-D array of shape 4✕4 into a 3-D array of shape 2✕2✕4, again preserving the 2✕2 sub-blocks in the manner of other exercises in this modules."
   ]
  },
  {
   "cell_type": "code",
   "execution_count": null,
   "metadata": {
    "slideshow": {
     "slide_type": "fragment"
    }
   },
   "outputs": [],
   "source": [
    "arr = ex5_5.arr.copy()\n",
    "ex5_5.result"
   ]
  },
  {
   "cell_type": "markdown",
   "metadata": {
    "slideshow": {
     "slide_type": "subslide"
    }
   },
   "source": [
    "---\n",
    "\n",
    "That last exercise should have been easy.  For a more difficult variation, tranform the 2-D array of shape 4✕4 into a 3-D array of shape 4✕2✕2, again preserving the 2✕2 sub-blocks.  \"Visually\" this is each sub-block of the same number on a plane/panel."
   ]
  },
  {
   "cell_type": "code",
   "execution_count": null,
   "metadata": {
    "slideshow": {
     "slide_type": "fragment"
    }
   },
   "outputs": [],
   "source": [
    "arr = ex5_6.arr.copy()\n",
    "ex5_6.result"
   ]
  },
  {
   "cell_type": "markdown",
   "metadata": {
    "slideshow": {
     "slide_type": "subslide"
    }
   },
   "source": [
    "---\n",
    "\n",
    "Transform the 4✕2✕2 3-D array that was the result in the last exercise by multiplying each sub-block by a 2✕2 mask of the following:\n",
    "\n",
    "```\n",
    "[[-1  0]\n",
    " [ 0 10]]\n",
    "```"
   ]
  },
  {
   "cell_type": "code",
   "execution_count": null,
   "metadata": {
    "editable": true,
    "slideshow": {
     "slide_type": "fragment"
    },
    "tags": []
   },
   "outputs": [],
   "source": [
    "arr = ex5_7.arr.copy()\n",
    "ex5_7.result"
   ]
  },
  {
   "cell_type": "markdown",
   "metadata": {
    "editable": true,
    "slideshow": {
     "slide_type": "slide"
    },
    "tags": []
   },
   "source": [
    "---\n",
    "\n",
    "Materials licensed under [CC BY-NC-ND 4.0](https://creativecommons.org/licenses/by-nc-nd/4.0/) by the authors"
   ]
  }
 ],
 "metadata": {
  "kernelspec": {
   "display_name": "Python 3 (ipykernel)",
   "language": "python",
   "name": "python3"
  },
  "language_info": {
   "codemirror_mode": {
    "name": "ipython",
    "version": 3
   },
   "file_extension": ".py",
   "mimetype": "text/x-python",
   "name": "python",
   "nbconvert_exporter": "python",
   "pygments_lexer": "ipython3",
   "version": "3.12.0"
  },
  "widgets": {
   "application/vnd.jupyter.widget-state+json": {
    "state": {},
    "version_major": 2,
    "version_minor": 0
   }
  }
 },
 "nbformat": 4,
 "nbformat_minor": 4
}
